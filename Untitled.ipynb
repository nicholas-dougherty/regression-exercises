{
 "cells": [
  {
   "cell_type": "code",
   "execution_count": 117,
   "id": "d2e790e8-94a5-477f-9b22-b40e853f17a6",
   "metadata": {},
   "outputs": [],
   "source": [
    "import numpy as np\n",
    "import pandas as pd\n",
    "import math\n",
    "import matplotlib.pyplot as plt"
   ]
  },
  {
   "cell_type": "code",
   "execution_count": 3,
   "id": "92163675-d3bc-44f0-92b5-93ba1203207b",
   "metadata": {},
   "outputs": [],
   "source": [
    "df = pd.read_csv('https://gist.githubusercontent.com/zgulde/b1cc93bf8bb4140ace71e0a3e44b8dcb/raw/17b5ac23c86baed88baf2c01b49d4913963f7cf2/data.csv')"
   ]
  },
  {
   "cell_type": "code",
   "execution_count": 4,
   "id": "40d69c33-a25d-483c-8cb7-097129084a07",
   "metadata": {},
   "outputs": [
    {
     "data": {
      "text/html": [
       "<div><div id=2675c690-036c-4e51-a66a-384893d9613b style=\"display:none; background-color:#9D6CFF; color:white; width:200px; height:30px; padding-left:5px; border-radius:4px; flex-direction:row; justify-content:space-around; align-items:center;\" onmouseover=\"this.style.backgroundColor='#BA9BF8'\" onmouseout=\"this.style.backgroundColor='#9D6CFF'\" onclick=\"window.commands?.execute('create-mitosheet-from-dataframe-output');\">See Full Dataframe in Mito</div> <script> if (window.commands.hasCommand('create-mitosheet-from-dataframe-output')) document.getElementById('2675c690-036c-4e51-a66a-384893d9613b').style.display = 'flex' </script> <table border=\"1\" class=\"dataframe\">\n",
       "  <thead>\n",
       "    <tr style=\"text-align: right;\">\n",
       "      <th></th>\n",
       "      <th>web_browser</th>\n",
       "      <th>water_ml</th>\n",
       "      <th>coffee_ml</th>\n",
       "      <th>pet</th>\n",
       "      <th>favorite_color</th>\n",
       "    </tr>\n",
       "  </thead>\n",
       "  <tbody>\n",
       "    <tr>\n",
       "      <th>0</th>\n",
       "      <td>Edge</td>\n",
       "      <td>1460.908387</td>\n",
       "      <td>1215.178520</td>\n",
       "      <td>dog</td>\n",
       "      <td>beige</td>\n",
       "    </tr>\n",
       "    <tr>\n",
       "      <th>1</th>\n",
       "      <td>Firefox</td>\n",
       "      <td>1518.863237</td>\n",
       "      <td>1401.531823</td>\n",
       "      <td>cat</td>\n",
       "      <td>navy</td>\n",
       "    </tr>\n",
       "    <tr>\n",
       "      <th>2</th>\n",
       "      <td>Edge</td>\n",
       "      <td>1219.323161</td>\n",
       "      <td>1726.410266</td>\n",
       "      <td>hamster</td>\n",
       "      <td>bisque</td>\n",
       "    </tr>\n",
       "    <tr>\n",
       "      <th>3</th>\n",
       "      <td>Opera</td>\n",
       "      <td>1068.023818</td>\n",
       "      <td>2860.242041</td>\n",
       "      <td>hamster</td>\n",
       "      <td>midnightblue</td>\n",
       "    </tr>\n",
       "    <tr>\n",
       "      <th>4</th>\n",
       "      <td>Safari</td>\n",
       "      <td>890.031813</td>\n",
       "      <td>933.430086</td>\n",
       "      <td>hamster</td>\n",
       "      <td>gainsboro</td>\n",
       "    </tr>\n",
       "    <tr>\n",
       "      <th>...</th>\n",
       "      <td>...</td>\n",
       "      <td>...</td>\n",
       "      <td>...</td>\n",
       "      <td>...</td>\n",
       "      <td>...</td>\n",
       "    </tr>\n",
       "    <tr>\n",
       "      <th>65720</th>\n",
       "      <td>Chrome</td>\n",
       "      <td>1697.715200</td>\n",
       "      <td>0.000000</td>\n",
       "      <td>dog</td>\n",
       "      <td>green</td>\n",
       "    </tr>\n",
       "    <tr>\n",
       "      <th>65721</th>\n",
       "      <td>Safari</td>\n",
       "      <td>1481.350945</td>\n",
       "      <td>827.058075</td>\n",
       "      <td>dog</td>\n",
       "      <td>lightcoral</td>\n",
       "    </tr>\n",
       "    <tr>\n",
       "      <th>65722</th>\n",
       "      <td>Chrome</td>\n",
       "      <td>1405.490010</td>\n",
       "      <td>1946.128590</td>\n",
       "      <td>cat</td>\n",
       "      <td>palegoldenrod</td>\n",
       "    </tr>\n",
       "    <tr>\n",
       "      <th>65723</th>\n",
       "      <td>Chrome</td>\n",
       "      <td>1566.588085</td>\n",
       "      <td>2073.726188</td>\n",
       "      <td>cat</td>\n",
       "      <td>red</td>\n",
       "    </tr>\n",
       "    <tr>\n",
       "      <th>65724</th>\n",
       "      <td>Chrome</td>\n",
       "      <td>1018.906621</td>\n",
       "      <td>0.000000</td>\n",
       "      <td>dog</td>\n",
       "      <td>palevioletred</td>\n",
       "    </tr>\n",
       "  </tbody>\n",
       "</table></div>"
      ],
      "text/plain": [
       "      web_browser     water_ml    coffee_ml      pet favorite_color\n",
       "0            Edge  1460.908387  1215.178520      dog          beige\n",
       "1         Firefox  1518.863237  1401.531823      cat           navy\n",
       "2            Edge  1219.323161  1726.410266  hamster         bisque\n",
       "3           Opera  1068.023818  2860.242041  hamster   midnightblue\n",
       "4          Safari   890.031813   933.430086  hamster      gainsboro\n",
       "...           ...          ...          ...      ...            ...\n",
       "65720      Chrome  1697.715200     0.000000      dog          green\n",
       "65721      Safari  1481.350945   827.058075      dog     lightcoral\n",
       "65722      Chrome  1405.490010  1946.128590      cat  palegoldenrod\n",
       "65723      Chrome  1566.588085  2073.726188      cat            red\n",
       "65724      Chrome  1018.906621     0.000000      dog  palevioletred\n",
       "\n",
       "[65725 rows x 5 columns]"
      ]
     },
     "execution_count": 4,
     "metadata": {},
     "output_type": "execute_result"
    }
   ],
   "source": [
    "df"
   ]
  },
  {
   "cell_type": "markdown",
   "id": "8a65bbd4-3375-4fa0-bf6e-bcf0983d1ef5",
   "metadata": {},
   "source": [
    "Data dictionary:\n",
    "\n",
    "- web_browser: which web browser the person uses\n",
    "- water_ml: water consumption in milliliters\n",
    "- coffee_ml: coffee consumption in milliliters\n",
    "- pet: type of pet the person has, if any\n",
    "- favorite_color"
   ]
  },
  {
   "cell_type": "code",
   "execution_count": 6,
   "id": "a424fc92-d96c-4dc3-9948-50aed6a1c2f2",
   "metadata": {},
   "outputs": [
    {
     "data": {
      "text/plain": [
       "98523349.369"
      ]
     },
     "execution_count": 6,
     "metadata": {},
     "output_type": "execute_result"
    }
   ],
   "source": [
    "round(df['water_ml'].sum(), 3)"
   ]
  },
  {
   "cell_type": "code",
   "execution_count": 10,
   "id": "e52b758d-2389-4441-aa8f-44e1553f5ec7",
   "metadata": {},
   "outputs": [
    {
     "data": {
      "text/plain": [
       "1499.024"
      ]
     },
     "execution_count": 10,
     "metadata": {},
     "output_type": "execute_result"
    }
   ],
   "source": [
    "round(df['water_ml'].mean(), 3)"
   ]
  },
  {
   "cell_type": "code",
   "execution_count": null,
   "id": "fc91e320-ac75-4eca-850a-f7ad4e791016",
   "metadata": {},
   "outputs": [],
   "source": [
    "df.head()"
   ]
  },
  {
   "cell_type": "code",
   "execution_count": null,
   "id": "b3808f02-4cca-4863-938a-7d0548a4e60c",
   "metadata": {},
   "outputs": [],
   "source": []
  },
  {
   "cell_type": "code",
   "execution_count": 14,
   "id": "582864ae-f909-4c5b-bc96-244d70e20f47",
   "metadata": {},
   "outputs": [],
   "source": [
    "chrome = df[df['web_browser'] == 'Chrome']"
   ]
  },
  {
   "cell_type": "code",
   "execution_count": 15,
   "id": "7038f184-8421-4f6d-bad5-f3866ff1f2ff",
   "metadata": {},
   "outputs": [
    {
     "data": {
      "text/plain": [
       "Chrome    12973\n",
       "Name: web_browser, dtype: int64"
      ]
     },
     "execution_count": 15,
     "metadata": {},
     "output_type": "execute_result"
    }
   ],
   "source": [
    "chrome.web_browser.value_counts()"
   ]
  },
  {
   "cell_type": "code",
   "execution_count": 16,
   "id": "256cf0d6-6c4a-4d7e-92f1-10acbe6e23d6",
   "metadata": {},
   "outputs": [
    {
     "data": {
      "text/plain": [
       "1500.7287591975637"
      ]
     },
     "execution_count": 16,
     "metadata": {},
     "output_type": "execute_result"
    }
   ],
   "source": [
    "chrome['water_ml'].mean()"
   ]
  },
  {
   "cell_type": "code",
   "execution_count": 17,
   "id": "8a2acbcf-0579-4dcf-abeb-3592974039df",
   "metadata": {},
   "outputs": [
    {
     "data": {
      "text/plain": [
       "1609.3810638355658"
      ]
     },
     "execution_count": 17,
     "metadata": {},
     "output_type": "execute_result"
    }
   ],
   "source": [
    "chrome['coffee_ml'].mean()"
   ]
  },
  {
   "cell_type": "code",
   "execution_count": 19,
   "id": "e2bde5e2-d4c6-48e0-859c-8db7c23b86bb",
   "metadata": {},
   "outputs": [
    {
     "data": {
      "text/html": [
       "<div><div id=a9795e17-5628-4e95-a433-85c3e0622f21 style=\"display:none; background-color:#9D6CFF; color:white; width:200px; height:30px; padding-left:5px; border-radius:4px; flex-direction:row; justify-content:space-around; align-items:center;\" onmouseover=\"this.style.backgroundColor='#BA9BF8'\" onmouseout=\"this.style.backgroundColor='#9D6CFF'\" onclick=\"window.commands?.execute('create-mitosheet-from-dataframe-output');\">See Full Dataframe in Mito</div> <script> if (window.commands.hasCommand('create-mitosheet-from-dataframe-output')) document.getElementById('a9795e17-5628-4e95-a433-85c3e0622f21').style.display = 'flex' </script> <table border=\"1\" class=\"dataframe\">\n",
       "  <thead>\n",
       "    <tr style=\"text-align: right;\">\n",
       "      <th></th>\n",
       "      <th>water_ml</th>\n",
       "      <th>coffee_ml</th>\n",
       "    </tr>\n",
       "  </thead>\n",
       "  <tbody>\n",
       "    <tr>\n",
       "      <th>count</th>\n",
       "      <td>12973.000000</td>\n",
       "      <td>12973.000000</td>\n",
       "    </tr>\n",
       "    <tr>\n",
       "      <th>mean</th>\n",
       "      <td>1500.728759</td>\n",
       "      <td>1609.381064</td>\n",
       "    </tr>\n",
       "    <tr>\n",
       "      <th>std</th>\n",
       "      <td>250.770173</td>\n",
       "      <td>798.470218</td>\n",
       "    </tr>\n",
       "    <tr>\n",
       "      <th>min</th>\n",
       "      <td>478.022749</td>\n",
       "      <td>0.000000</td>\n",
       "    </tr>\n",
       "    <tr>\n",
       "      <th>25%</th>\n",
       "      <td>1330.831325</td>\n",
       "      <td>1849.806498</td>\n",
       "    </tr>\n",
       "    <tr>\n",
       "      <th>50%</th>\n",
       "      <td>1499.350729</td>\n",
       "      <td>1968.440345</td>\n",
       "    </tr>\n",
       "    <tr>\n",
       "      <th>75%</th>\n",
       "      <td>1671.373552</td>\n",
       "      <td>2050.635132</td>\n",
       "    </tr>\n",
       "    <tr>\n",
       "      <th>max</th>\n",
       "      <td>2536.881493</td>\n",
       "      <td>2408.021308</td>\n",
       "    </tr>\n",
       "  </tbody>\n",
       "</table></div>"
      ],
      "text/plain": [
       "           water_ml     coffee_ml\n",
       "count  12973.000000  12973.000000\n",
       "mean    1500.728759   1609.381064\n",
       "std      250.770173    798.470218\n",
       "min      478.022749      0.000000\n",
       "25%     1330.831325   1849.806498\n",
       "50%     1499.350729   1968.440345\n",
       "75%     1671.373552   2050.635132\n",
       "max     2536.881493   2408.021308"
      ]
     },
     "execution_count": 19,
     "metadata": {},
     "output_type": "execute_result"
    }
   ],
   "source": [
    "chrome.describe()"
   ]
  },
  {
   "cell_type": "code",
   "execution_count": 20,
   "id": "736c718e-1a2f-429d-a01a-000c0400481e",
   "metadata": {},
   "outputs": [
    {
     "data": {
      "text/plain": [
       "Edge       13429\n",
       "Safari     13237\n",
       "Opera      13098\n",
       "Firefox    12988\n",
       "Chrome     12973\n",
       "Name: web_browser, dtype: int64"
      ]
     },
     "execution_count": 20,
     "metadata": {},
     "output_type": "execute_result"
    }
   ],
   "source": [
    "df.web_browser.value_counts()"
   ]
  },
  {
   "cell_type": "code",
   "execution_count": 23,
   "id": "0520ab4f-d373-4562-9e6a-cb79b027054d",
   "metadata": {},
   "outputs": [],
   "source": [
    "no_caff = df[df['coffee_ml'] == 0.0]"
   ]
  },
  {
   "cell_type": "code",
   "execution_count": 24,
   "id": "05ebfb01-905d-4a8f-9f44-3c2d70d4d616",
   "metadata": {},
   "outputs": [
    {
     "data": {
      "text/plain": [
       "Firefox    2630\n",
       "Edge       2629\n",
       "Safari     2616\n",
       "Opera      2571\n",
       "Chrome     2536\n",
       "Name: web_browser, dtype: int64"
      ]
     },
     "execution_count": 24,
     "metadata": {},
     "output_type": "execute_result"
    }
   ],
   "source": [
    "no_caff.web_browser.value_counts()"
   ]
  },
  {
   "cell_type": "code",
   "execution_count": 25,
   "id": "42bffcc7-305d-42fe-b014-1ab761984e33",
   "metadata": {},
   "outputs": [
    {
     "data": {
      "text/plain": [
       "0.0    12982\n",
       "Name: coffee_ml, dtype: int64"
      ]
     },
     "execution_count": 25,
     "metadata": {},
     "output_type": "execute_result"
    }
   ],
   "source": [
    "no_caff.coffee_ml.value_counts()"
   ]
  },
  {
   "cell_type": "code",
   "execution_count": 27,
   "id": "aede7697-758c-4d99-8b4c-bffc862a0701",
   "metadata": {},
   "outputs": [],
   "source": [
    "less = df[df['coffee_ml'] < 1000]"
   ]
  },
  {
   "cell_type": "code",
   "execution_count": 28,
   "id": "c116adc5-1632-4f0f-b498-b04cba372b9f",
   "metadata": {},
   "outputs": [
    {
     "data": {
      "text/plain": [
       "999.9759312237528"
      ]
     },
     "execution_count": 28,
     "metadata": {},
     "output_type": "execute_result"
    }
   ],
   "source": [
    "less.coffee_ml.max()"
   ]
  },
  {
   "cell_type": "code",
   "execution_count": 29,
   "id": "318f9c24-bf28-4e5e-b4fa-dc19fd1ddb4c",
   "metadata": {},
   "outputs": [
    {
     "data": {
      "text/plain": [
       "0.0"
      ]
     },
     "execution_count": 29,
     "metadata": {},
     "output_type": "execute_result"
    }
   ],
   "source": [
    "less.coffee_ml.min()"
   ]
  },
  {
   "cell_type": "code",
   "execution_count": 33,
   "id": "6066265e-0305-4654-9bcc-18f146fcb569",
   "metadata": {},
   "outputs": [
    {
     "data": {
      "text/plain": [
       "(18752, 5)"
      ]
     },
     "execution_count": 33,
     "metadata": {},
     "output_type": "execute_result"
    }
   ],
   "source": [
    "less.shape"
   ]
  },
  {
   "cell_type": "code",
   "execution_count": 36,
   "id": "6ce4b973-588c-46b9-a141-b75762d54a32",
   "metadata": {},
   "outputs": [
    {
     "data": {
      "text/plain": [
       "dog        7444\n",
       "cat        5626\n",
       "hamster    3789\n",
       "Name: pet, dtype: int64"
      ]
     },
     "execution_count": 36,
     "metadata": {},
     "output_type": "execute_result"
    }
   ],
   "source": [
    "less.pet.value_counts()"
   ]
  },
  {
   "cell_type": "code",
   "execution_count": 37,
   "id": "a77cb1e6-b903-41ae-8217-9354ba8f09ce",
   "metadata": {},
   "outputs": [
    {
     "data": {
      "text/plain": [
       "16859"
      ]
     },
     "execution_count": 37,
     "metadata": {},
     "output_type": "execute_result"
    }
   ],
   "source": [
    "7444 + 5626 + 3789"
   ]
  },
  {
   "cell_type": "code",
   "execution_count": 38,
   "id": "8f6ac47d-f126-471a-b7e9-2c037217ef75",
   "metadata": {},
   "outputs": [
    {
     "data": {
      "text/plain": [
       "1893"
      ]
     },
     "execution_count": 38,
     "metadata": {},
     "output_type": "execute_result"
    }
   ],
   "source": [
    "18752 - 16859"
   ]
  },
  {
   "cell_type": "code",
   "execution_count": null,
   "id": "07336504-a422-4cda-94c1-57637be4ea12",
   "metadata": {},
   "outputs": [],
   "source": [
    "less"
   ]
  },
  {
   "cell_type": "code",
   "execution_count": 42,
   "id": "59f18e3d-5d4e-41a7-a480-c93c41ba51a8",
   "metadata": {},
   "outputs": [],
   "source": [
    "hammy = df[df['pet'] == 'hamster']"
   ]
  },
  {
   "cell_type": "code",
   "execution_count": 47,
   "id": "0b1fe515-1dd7-4fa6-a5fb-3c10cb1cbcc6",
   "metadata": {},
   "outputs": [
    {
     "data": {
      "text/plain": [
       "orchid          111\n",
       "green           110\n",
       "violet          109\n",
       "gainsboro       107\n",
       "bisque          106\n",
       "               ... \n",
       "darkcyan         74\n",
       "goldenrod        73\n",
       "peachpuff        69\n",
       "antiquewhite     69\n",
       "indianred        67\n",
       "Name: favorite_color, Length: 148, dtype: int64"
      ]
     },
     "execution_count": 47,
     "metadata": {},
     "output_type": "execute_result"
    }
   ],
   "source": [
    "hammy.favorite_color.value_counts(ascending = False)"
   ]
  },
  {
   "cell_type": "code",
   "execution_count": 49,
   "id": "ed44f7a4-f873-4305-bdca-8240b36182fc",
   "metadata": {},
   "outputs": [],
   "source": [
    "crimson = df[df['favorite_color'] == 'crimson']\n",
    "pink = df[df['favorite_color'] == 'pink']\n",
    "lavender = df[df['favorite_color'] == 'lavender']"
   ]
  },
  {
   "cell_type": "code",
   "execution_count": 50,
   "id": "4b912731-170d-4fee-8f98-24aed4f122ac",
   "metadata": {},
   "outputs": [
    {
     "data": {
      "text/plain": [
       "crimson    480\n",
       "Name: favorite_color, dtype: int64"
      ]
     },
     "execution_count": 50,
     "metadata": {},
     "output_type": "execute_result"
    }
   ],
   "source": [
    "crimson.favorite_color.value_counts()"
   ]
  },
  {
   "cell_type": "code",
   "execution_count": 51,
   "id": "75a518b6-c381-4ccb-a839-f2143a63c3c8",
   "metadata": {},
   "outputs": [
    {
     "data": {
      "text/plain": [
       "pink    440\n",
       "Name: favorite_color, dtype: int64"
      ]
     },
     "execution_count": 51,
     "metadata": {},
     "output_type": "execute_result"
    }
   ],
   "source": [
    "pink.favorite_color.value_counts()"
   ]
  },
  {
   "cell_type": "code",
   "execution_count": 52,
   "id": "d2443528-2cda-46e5-bec8-86899f2133c1",
   "metadata": {},
   "outputs": [
    {
     "data": {
      "text/plain": [
       "lavender    471\n",
       "Name: favorite_color, dtype: int64"
      ]
     },
     "execution_count": 52,
     "metadata": {},
     "output_type": "execute_result"
    }
   ],
   "source": [
    "lavender.favorite_color.value_counts()"
   ]
  },
  {
   "cell_type": "code",
   "execution_count": 53,
   "id": "5447a5c2-4cdf-41a5-b01c-e0ded807b984",
   "metadata": {},
   "outputs": [
    {
     "name": "stdout",
     "output_type": "stream",
     "text": [
      "medians of Each Column:\n",
      "water_ml     1495.745524\n",
      "coffee_ml    1468.793618\n",
      "dtype: float64\n"
     ]
    },
    {
     "name": "stderr",
     "output_type": "stream",
     "text": [
      "/var/folders/qn/sd1_3x2j4196db03067vql600000gn/T/ipykernel_1435/2938272357.py:1: FutureWarning: Dropping of nuisance columns in DataFrame reductions (with 'numeric_only=None') is deprecated; in a future version this will raise TypeError.  Select only valid columns before calling the reduction.\n",
      "  medians=lavender.median()\n"
     ]
    }
   ],
   "source": [
    "medians=lavender.median()\n",
    "print(\"medians of Each Column:\")\n",
    "print(medians)"
   ]
  },
  {
   "cell_type": "code",
   "execution_count": 54,
   "id": "94b38875-34d3-4500-9a5f-5211952bc1ff",
   "metadata": {},
   "outputs": [
    {
     "name": "stdout",
     "output_type": "stream",
     "text": [
      "medians of Each Column:\n",
      "water_ml     1502.983107\n",
      "coffee_ml    1438.984719\n",
      "dtype: float64\n"
     ]
    },
    {
     "name": "stderr",
     "output_type": "stream",
     "text": [
      "/var/folders/qn/sd1_3x2j4196db03067vql600000gn/T/ipykernel_1435/3780832163.py:1: FutureWarning: Dropping of nuisance columns in DataFrame reductions (with 'numeric_only=None') is deprecated; in a future version this will raise TypeError.  Select only valid columns before calling the reduction.\n",
      "  medians2=crimson.median()\n"
     ]
    }
   ],
   "source": [
    "medians2=crimson.median()\n",
    "print(\"medians of Each Column:\")\n",
    "print(medians2)"
   ]
  },
  {
   "cell_type": "code",
   "execution_count": 55,
   "id": "ce31f789-1ceb-47fa-ade0-fb0091839bdd",
   "metadata": {},
   "outputs": [
    {
     "name": "stdout",
     "output_type": "stream",
     "text": [
      "medians of Each Column:\n",
      "water_ml     1516.951775\n",
      "coffee_ml    1494.260615\n",
      "dtype: float64\n"
     ]
    },
    {
     "name": "stderr",
     "output_type": "stream",
     "text": [
      "/var/folders/qn/sd1_3x2j4196db03067vql600000gn/T/ipykernel_1435/831305127.py:1: FutureWarning: Dropping of nuisance columns in DataFrame reductions (with 'numeric_only=None') is deprecated; in a future version this will raise TypeError.  Select only valid columns before calling the reduction.\n",
      "  medians3=pink.median()\n"
     ]
    }
   ],
   "source": [
    "medians3=pink.median()\n",
    "print(\"medians of Each Column:\")\n",
    "print(medians3)"
   ]
  },
  {
   "cell_type": "code",
   "execution_count": 56,
   "id": "e2582f70-5f18-4693-bf55-a2f5487a7c38",
   "metadata": {},
   "outputs": [
    {
     "data": {
      "text/html": [
       "<div><div id=84c4ab67-4852-4d63-8096-bc7f5c6e2062 style=\"display:none; background-color:#9D6CFF; color:white; width:200px; height:30px; padding-left:5px; border-radius:4px; flex-direction:row; justify-content:space-around; align-items:center;\" onmouseover=\"this.style.backgroundColor='#BA9BF8'\" onmouseout=\"this.style.backgroundColor='#9D6CFF'\" onclick=\"window.commands?.execute('create-mitosheet-from-dataframe-output');\">See Full Dataframe in Mito</div> <script> if (window.commands.hasCommand('create-mitosheet-from-dataframe-output')) document.getElementById('84c4ab67-4852-4d63-8096-bc7f5c6e2062').style.display = 'flex' </script> <table border=\"1\" class=\"dataframe\">\n",
       "  <thead>\n",
       "    <tr style=\"text-align: right;\">\n",
       "      <th></th>\n",
       "      <th>water_ml</th>\n",
       "      <th>coffee_ml</th>\n",
       "    </tr>\n",
       "  </thead>\n",
       "  <tbody>\n",
       "    <tr>\n",
       "      <th>count</th>\n",
       "      <td>440.000000</td>\n",
       "      <td>440.000000</td>\n",
       "    </tr>\n",
       "    <tr>\n",
       "      <th>mean</th>\n",
       "      <td>1521.355572</td>\n",
       "      <td>1361.334317</td>\n",
       "    </tr>\n",
       "    <tr>\n",
       "      <th>std</th>\n",
       "      <td>246.663170</td>\n",
       "      <td>811.810956</td>\n",
       "    </tr>\n",
       "    <tr>\n",
       "      <th>min</th>\n",
       "      <td>904.081624</td>\n",
       "      <td>0.000000</td>\n",
       "    </tr>\n",
       "    <tr>\n",
       "      <th>25%</th>\n",
       "      <td>1360.893590</td>\n",
       "      <td>938.300513</td>\n",
       "    </tr>\n",
       "    <tr>\n",
       "      <th>50%</th>\n",
       "      <td>1516.951775</td>\n",
       "      <td>1494.260615</td>\n",
       "    </tr>\n",
       "    <tr>\n",
       "      <th>75%</th>\n",
       "      <td>1690.231714</td>\n",
       "      <td>1950.103853</td>\n",
       "    </tr>\n",
       "    <tr>\n",
       "      <th>max</th>\n",
       "      <td>2281.942591</td>\n",
       "      <td>3535.140078</td>\n",
       "    </tr>\n",
       "  </tbody>\n",
       "</table></div>"
      ],
      "text/plain": [
       "          water_ml    coffee_ml\n",
       "count   440.000000   440.000000\n",
       "mean   1521.355572  1361.334317\n",
       "std     246.663170   811.810956\n",
       "min     904.081624     0.000000\n",
       "25%    1360.893590   938.300513\n",
       "50%    1516.951775  1494.260615\n",
       "75%    1690.231714  1950.103853\n",
       "max    2281.942591  3535.140078"
      ]
     },
     "execution_count": 56,
     "metadata": {},
     "output_type": "execute_result"
    }
   ],
   "source": [
    "pink.describe()"
   ]
  },
  {
   "cell_type": "code",
   "execution_count": 57,
   "id": "0aeb9917-0376-44cf-8927-690215f09365",
   "metadata": {},
   "outputs": [
    {
     "data": {
      "text/html": [
       "<div><div id=5d83d226-2432-45eb-b5e1-dcc646ffa140 style=\"display:none; background-color:#9D6CFF; color:white; width:200px; height:30px; padding-left:5px; border-radius:4px; flex-direction:row; justify-content:space-around; align-items:center;\" onmouseover=\"this.style.backgroundColor='#BA9BF8'\" onmouseout=\"this.style.backgroundColor='#9D6CFF'\" onclick=\"window.commands?.execute('create-mitosheet-from-dataframe-output');\">See Full Dataframe in Mito</div> <script> if (window.commands.hasCommand('create-mitosheet-from-dataframe-output')) document.getElementById('5d83d226-2432-45eb-b5e1-dcc646ffa140').style.display = 'flex' </script> <table border=\"1\" class=\"dataframe\">\n",
       "  <thead>\n",
       "    <tr style=\"text-align: right;\">\n",
       "      <th></th>\n",
       "      <th>water_ml</th>\n",
       "      <th>coffee_ml</th>\n",
       "    </tr>\n",
       "  </thead>\n",
       "  <tbody>\n",
       "    <tr>\n",
       "      <th>count</th>\n",
       "      <td>471.000000</td>\n",
       "      <td>471.000000</td>\n",
       "    </tr>\n",
       "    <tr>\n",
       "      <th>mean</th>\n",
       "      <td>1499.390590</td>\n",
       "      <td>1298.602098</td>\n",
       "    </tr>\n",
       "    <tr>\n",
       "      <th>std</th>\n",
       "      <td>251.072969</td>\n",
       "      <td>827.382267</td>\n",
       "    </tr>\n",
       "    <tr>\n",
       "      <th>min</th>\n",
       "      <td>840.939939</td>\n",
       "      <td>0.000000</td>\n",
       "    </tr>\n",
       "    <tr>\n",
       "      <th>25%</th>\n",
       "      <td>1335.048903</td>\n",
       "      <td>821.882508</td>\n",
       "    </tr>\n",
       "    <tr>\n",
       "      <th>50%</th>\n",
       "      <td>1495.745524</td>\n",
       "      <td>1468.793618</td>\n",
       "    </tr>\n",
       "    <tr>\n",
       "      <th>75%</th>\n",
       "      <td>1673.116091</td>\n",
       "      <td>1966.875336</td>\n",
       "    </tr>\n",
       "    <tr>\n",
       "      <th>max</th>\n",
       "      <td>2125.903597</td>\n",
       "      <td>3619.321583</td>\n",
       "    </tr>\n",
       "  </tbody>\n",
       "</table></div>"
      ],
      "text/plain": [
       "          water_ml    coffee_ml\n",
       "count   471.000000   471.000000\n",
       "mean   1499.390590  1298.602098\n",
       "std     251.072969   827.382267\n",
       "min     840.939939     0.000000\n",
       "25%    1335.048903   821.882508\n",
       "50%    1495.745524  1468.793618\n",
       "75%    1673.116091  1966.875336\n",
       "max    2125.903597  3619.321583"
      ]
     },
     "execution_count": 57,
     "metadata": {},
     "output_type": "execute_result"
    }
   ],
   "source": [
    "lavender.describe()"
   ]
  },
  {
   "cell_type": "code",
   "execution_count": 58,
   "id": "dc1c541e-4be8-44a7-b601-45b68ce81889",
   "metadata": {},
   "outputs": [
    {
     "data": {
      "text/html": [
       "<div><div id=cc64c738-9664-4e34-ae2a-f27357f9fad8 style=\"display:none; background-color:#9D6CFF; color:white; width:200px; height:30px; padding-left:5px; border-radius:4px; flex-direction:row; justify-content:space-around; align-items:center;\" onmouseover=\"this.style.backgroundColor='#BA9BF8'\" onmouseout=\"this.style.backgroundColor='#9D6CFF'\" onclick=\"window.commands?.execute('create-mitosheet-from-dataframe-output');\">See Full Dataframe in Mito</div> <script> if (window.commands.hasCommand('create-mitosheet-from-dataframe-output')) document.getElementById('cc64c738-9664-4e34-ae2a-f27357f9fad8').style.display = 'flex' </script> <table border=\"1\" class=\"dataframe\">\n",
       "  <thead>\n",
       "    <tr style=\"text-align: right;\">\n",
       "      <th></th>\n",
       "      <th>water_ml</th>\n",
       "      <th>coffee_ml</th>\n",
       "    </tr>\n",
       "  </thead>\n",
       "  <tbody>\n",
       "    <tr>\n",
       "      <th>count</th>\n",
       "      <td>480.000000</td>\n",
       "      <td>480.000000</td>\n",
       "    </tr>\n",
       "    <tr>\n",
       "      <th>mean</th>\n",
       "      <td>1494.089430</td>\n",
       "      <td>1332.194870</td>\n",
       "    </tr>\n",
       "    <tr>\n",
       "      <th>std</th>\n",
       "      <td>268.845035</td>\n",
       "      <td>826.303270</td>\n",
       "    </tr>\n",
       "    <tr>\n",
       "      <th>min</th>\n",
       "      <td>598.123761</td>\n",
       "      <td>0.000000</td>\n",
       "    </tr>\n",
       "    <tr>\n",
       "      <th>25%</th>\n",
       "      <td>1311.789012</td>\n",
       "      <td>881.704466</td>\n",
       "    </tr>\n",
       "    <tr>\n",
       "      <th>50%</th>\n",
       "      <td>1502.983107</td>\n",
       "      <td>1438.984719</td>\n",
       "    </tr>\n",
       "    <tr>\n",
       "      <th>75%</th>\n",
       "      <td>1672.810360</td>\n",
       "      <td>1937.774430</td>\n",
       "    </tr>\n",
       "    <tr>\n",
       "      <th>max</th>\n",
       "      <td>2277.178363</td>\n",
       "      <td>3610.696975</td>\n",
       "    </tr>\n",
       "  </tbody>\n",
       "</table></div>"
      ],
      "text/plain": [
       "          water_ml    coffee_ml\n",
       "count   480.000000   480.000000\n",
       "mean   1494.089430  1332.194870\n",
       "std     268.845035   826.303270\n",
       "min     598.123761     0.000000\n",
       "25%    1311.789012   881.704466\n",
       "50%    1502.983107  1438.984719\n",
       "75%    1672.810360  1937.774430\n",
       "max    2277.178363  3610.696975"
      ]
     },
     "execution_count": 58,
     "metadata": {},
     "output_type": "execute_result"
    }
   ],
   "source": [
    "crimson.describe()"
   ]
  },
  {
   "cell_type": "code",
   "execution_count": 67,
   "id": "2712cf55-ee81-4a56-ae0f-58e7251e3874",
   "metadata": {},
   "outputs": [],
   "source": [
    "def remove_outliers(df, k, col_list):\n",
    "    ''' remove outliers from a list of columns in a dataframe \n",
    "        and return that dataframe. The quantiles are designated\n",
    "        within the function, but k is optional. 1.5 would be a thorough\n",
    "        removal and 3 is less harsh in its content loss. For this dataframe,\n",
    "        visually, the two accomplish the same, so to prevent major loss\n",
    "        3 is implemented. \n",
    "    '''\n",
    "    \n",
    "    for col in col_list:\n",
    "        # get quartiles\n",
    "        q1, q3 = df[f'{col}'].quantile([.25, .75])  \n",
    "        # calculate interquartile range\n",
    "        iqr = q3 - q1   \n",
    "        # get upper bound\n",
    "        upper_bound = q3 + k * iqr \n",
    "        # get lower bound\n",
    "        lower_bound = q1 - k * iqr   \n",
    "\n",
    "        # return dataframe without outliers\n",
    "        \n",
    "        df = df[(df[f'{col}'] > lower_bound) & (df[f'{col}'] < upper_bound)]\n",
    "        \n",
    "    return df"
   ]
  },
  {
   "cell_type": "code",
   "execution_count": 60,
   "id": "460b2431-62fb-40cc-b551-0948d86f3a46",
   "metadata": {},
   "outputs": [
    {
     "data": {
      "text/html": [
       "<div><div id=f091351b-1de1-4b8d-9b72-069cb448196a style=\"display:none; background-color:#9D6CFF; color:white; width:200px; height:30px; padding-left:5px; border-radius:4px; flex-direction:row; justify-content:space-around; align-items:center;\" onmouseover=\"this.style.backgroundColor='#BA9BF8'\" onmouseout=\"this.style.backgroundColor='#9D6CFF'\" onclick=\"window.commands?.execute('create-mitosheet-from-dataframe-output');\">See Full Dataframe in Mito</div> <script> if (window.commands.hasCommand('create-mitosheet-from-dataframe-output')) document.getElementById('f091351b-1de1-4b8d-9b72-069cb448196a').style.display = 'flex' </script> <table border=\"1\" class=\"dataframe\">\n",
       "  <thead>\n",
       "    <tr style=\"text-align: right;\">\n",
       "      <th></th>\n",
       "      <th>web_browser</th>\n",
       "      <th>water_ml</th>\n",
       "      <th>coffee_ml</th>\n",
       "      <th>pet</th>\n",
       "      <th>favorite_color</th>\n",
       "    </tr>\n",
       "  </thead>\n",
       "  <tbody>\n",
       "    <tr>\n",
       "      <th>0</th>\n",
       "      <td>Edge</td>\n",
       "      <td>1460.908387</td>\n",
       "      <td>1215.178520</td>\n",
       "      <td>dog</td>\n",
       "      <td>beige</td>\n",
       "    </tr>\n",
       "    <tr>\n",
       "      <th>1</th>\n",
       "      <td>Firefox</td>\n",
       "      <td>1518.863237</td>\n",
       "      <td>1401.531823</td>\n",
       "      <td>cat</td>\n",
       "      <td>navy</td>\n",
       "    </tr>\n",
       "    <tr>\n",
       "      <th>2</th>\n",
       "      <td>Edge</td>\n",
       "      <td>1219.323161</td>\n",
       "      <td>1726.410266</td>\n",
       "      <td>hamster</td>\n",
       "      <td>bisque</td>\n",
       "    </tr>\n",
       "    <tr>\n",
       "      <th>3</th>\n",
       "      <td>Opera</td>\n",
       "      <td>1068.023818</td>\n",
       "      <td>2860.242041</td>\n",
       "      <td>hamster</td>\n",
       "      <td>midnightblue</td>\n",
       "    </tr>\n",
       "    <tr>\n",
       "      <th>4</th>\n",
       "      <td>Safari</td>\n",
       "      <td>890.031813</td>\n",
       "      <td>933.430086</td>\n",
       "      <td>hamster</td>\n",
       "      <td>gainsboro</td>\n",
       "    </tr>\n",
       "    <tr>\n",
       "      <th>...</th>\n",
       "      <td>...</td>\n",
       "      <td>...</td>\n",
       "      <td>...</td>\n",
       "      <td>...</td>\n",
       "      <td>...</td>\n",
       "    </tr>\n",
       "    <tr>\n",
       "      <th>65720</th>\n",
       "      <td>Chrome</td>\n",
       "      <td>1697.715200</td>\n",
       "      <td>0.000000</td>\n",
       "      <td>dog</td>\n",
       "      <td>green</td>\n",
       "    </tr>\n",
       "    <tr>\n",
       "      <th>65721</th>\n",
       "      <td>Safari</td>\n",
       "      <td>1481.350945</td>\n",
       "      <td>827.058075</td>\n",
       "      <td>dog</td>\n",
       "      <td>lightcoral</td>\n",
       "    </tr>\n",
       "    <tr>\n",
       "      <th>65722</th>\n",
       "      <td>Chrome</td>\n",
       "      <td>1405.490010</td>\n",
       "      <td>1946.128590</td>\n",
       "      <td>cat</td>\n",
       "      <td>palegoldenrod</td>\n",
       "    </tr>\n",
       "    <tr>\n",
       "      <th>65723</th>\n",
       "      <td>Chrome</td>\n",
       "      <td>1566.588085</td>\n",
       "      <td>2073.726188</td>\n",
       "      <td>cat</td>\n",
       "      <td>red</td>\n",
       "    </tr>\n",
       "    <tr>\n",
       "      <th>65724</th>\n",
       "      <td>Chrome</td>\n",
       "      <td>1018.906621</td>\n",
       "      <td>0.000000</td>\n",
       "      <td>dog</td>\n",
       "      <td>palevioletred</td>\n",
       "    </tr>\n",
       "  </tbody>\n",
       "</table></div>"
      ],
      "text/plain": [
       "      web_browser     water_ml    coffee_ml      pet favorite_color\n",
       "0            Edge  1460.908387  1215.178520      dog          beige\n",
       "1         Firefox  1518.863237  1401.531823      cat           navy\n",
       "2            Edge  1219.323161  1726.410266  hamster         bisque\n",
       "3           Opera  1068.023818  2860.242041  hamster   midnightblue\n",
       "4          Safari   890.031813   933.430086  hamster      gainsboro\n",
       "...           ...          ...          ...      ...            ...\n",
       "65720      Chrome  1697.715200     0.000000      dog          green\n",
       "65721      Safari  1481.350945   827.058075      dog     lightcoral\n",
       "65722      Chrome  1405.490010  1946.128590      cat  palegoldenrod\n",
       "65723      Chrome  1566.588085  2073.726188      cat            red\n",
       "65724      Chrome  1018.906621     0.000000      dog  palevioletred\n",
       "\n",
       "[65725 rows x 5 columns]"
      ]
     },
     "execution_count": 60,
     "metadata": {},
     "output_type": "execute_result"
    }
   ],
   "source": [
    "df"
   ]
  },
  {
   "cell_type": "code",
   "execution_count": 64,
   "id": "be507956-5be3-41f5-836a-24ca2c98b611",
   "metadata": {},
   "outputs": [],
   "source": [
    "coffee_df = df[['coffee_ml', 'web_browser']]"
   ]
  },
  {
   "cell_type": "code",
   "execution_count": 65,
   "id": "fde83773-4e11-4d32-9a08-939a69dcbc14",
   "metadata": {},
   "outputs": [
    {
     "data": {
      "text/plain": [
       "pandas.core.frame.DataFrame"
      ]
     },
     "execution_count": 65,
     "metadata": {},
     "output_type": "execute_result"
    }
   ],
   "source": [
    "type(coffee_df)"
   ]
  },
  {
   "cell_type": "code",
   "execution_count": 66,
   "id": "274dcf22-ef26-46ad-b644-f699edf799e4",
   "metadata": {},
   "outputs": [
    {
     "data": {
      "text/html": [
       "<div><div id=73796b0c-8b80-4771-805a-6845db6ea7f4 style=\"display:none; background-color:#9D6CFF; color:white; width:200px; height:30px; padding-left:5px; border-radius:4px; flex-direction:row; justify-content:space-around; align-items:center;\" onmouseover=\"this.style.backgroundColor='#BA9BF8'\" onmouseout=\"this.style.backgroundColor='#9D6CFF'\" onclick=\"window.commands?.execute('create-mitosheet-from-dataframe-output');\">See Full Dataframe in Mito</div> <script> if (window.commands.hasCommand('create-mitosheet-from-dataframe-output')) document.getElementById('73796b0c-8b80-4771-805a-6845db6ea7f4').style.display = 'flex' </script> <table border=\"1\" class=\"dataframe\">\n",
       "  <thead>\n",
       "    <tr style=\"text-align: right;\">\n",
       "      <th></th>\n",
       "      <th>coffee_ml</th>\n",
       "      <th>web_browser</th>\n",
       "    </tr>\n",
       "  </thead>\n",
       "  <tbody>\n",
       "    <tr>\n",
       "      <th>0</th>\n",
       "      <td>1215.178520</td>\n",
       "      <td>Edge</td>\n",
       "    </tr>\n",
       "    <tr>\n",
       "      <th>1</th>\n",
       "      <td>1401.531823</td>\n",
       "      <td>Firefox</td>\n",
       "    </tr>\n",
       "    <tr>\n",
       "      <th>2</th>\n",
       "      <td>1726.410266</td>\n",
       "      <td>Edge</td>\n",
       "    </tr>\n",
       "    <tr>\n",
       "      <th>3</th>\n",
       "      <td>2860.242041</td>\n",
       "      <td>Opera</td>\n",
       "    </tr>\n",
       "    <tr>\n",
       "      <th>4</th>\n",
       "      <td>933.430086</td>\n",
       "      <td>Safari</td>\n",
       "    </tr>\n",
       "    <tr>\n",
       "      <th>...</th>\n",
       "      <td>...</td>\n",
       "      <td>...</td>\n",
       "    </tr>\n",
       "    <tr>\n",
       "      <th>65720</th>\n",
       "      <td>0.000000</td>\n",
       "      <td>Chrome</td>\n",
       "    </tr>\n",
       "    <tr>\n",
       "      <th>65721</th>\n",
       "      <td>827.058075</td>\n",
       "      <td>Safari</td>\n",
       "    </tr>\n",
       "    <tr>\n",
       "      <th>65722</th>\n",
       "      <td>1946.128590</td>\n",
       "      <td>Chrome</td>\n",
       "    </tr>\n",
       "    <tr>\n",
       "      <th>65723</th>\n",
       "      <td>2073.726188</td>\n",
       "      <td>Chrome</td>\n",
       "    </tr>\n",
       "    <tr>\n",
       "      <th>65724</th>\n",
       "      <td>0.000000</td>\n",
       "      <td>Chrome</td>\n",
       "    </tr>\n",
       "  </tbody>\n",
       "</table></div>"
      ],
      "text/plain": [
       "         coffee_ml web_browser\n",
       "0      1215.178520        Edge\n",
       "1      1401.531823     Firefox\n",
       "2      1726.410266        Edge\n",
       "3      2860.242041       Opera\n",
       "4       933.430086      Safari\n",
       "...            ...         ...\n",
       "65720     0.000000      Chrome\n",
       "65721   827.058075      Safari\n",
       "65722  1946.128590      Chrome\n",
       "65723  2073.726188      Chrome\n",
       "65724     0.000000      Chrome\n",
       "\n",
       "[65725 rows x 2 columns]"
      ]
     },
     "execution_count": 66,
     "metadata": {},
     "output_type": "execute_result"
    }
   ],
   "source": [
    "coffee_df"
   ]
  },
  {
   "cell_type": "code",
   "execution_count": 68,
   "id": "39fc5213-c03f-49c9-a8fb-139c4204129a",
   "metadata": {},
   "outputs": [],
   "source": [
    "coffeedf2 = coffee_df.copy()"
   ]
  },
  {
   "cell_type": "code",
   "execution_count": 69,
   "id": "689a08d9-ad85-454d-a84e-a331886f55d0",
   "metadata": {},
   "outputs": [
    {
     "data": {
      "text/plain": [
       "(65725, 2)"
      ]
     },
     "execution_count": 69,
     "metadata": {},
     "output_type": "execute_result"
    }
   ],
   "source": [
    "coffee_df.shape"
   ]
  },
  {
   "cell_type": "code",
   "execution_count": 70,
   "id": "2c18eca2-29fb-44b9-bdf7-e0a855cbbee7",
   "metadata": {},
   "outputs": [
    {
     "data": {
      "text/plain": [
       "(65725, 2)"
      ]
     },
     "execution_count": 70,
     "metadata": {},
     "output_type": "execute_result"
    }
   ],
   "source": [
    "coffeedf2.shape"
   ]
  },
  {
   "cell_type": "code",
   "execution_count": 75,
   "id": "c26b8249-1d69-4c36-82aa-6bda9be5d6c5",
   "metadata": {},
   "outputs": [],
   "source": [
    "coflist = ['coffee_ml']"
   ]
  },
  {
   "cell_type": "code",
   "execution_count": 79,
   "id": "5c0f470b-81b1-466c-bc03-dfca0d781983",
   "metadata": {},
   "outputs": [],
   "source": [
    "df3 = remove_outliers(df=coffeedf2, k= 1.5, col_list=coflist)"
   ]
  },
  {
   "cell_type": "code",
   "execution_count": 80,
   "id": "9e51c8f4-a14d-461d-9c43-bd5ffb154b3c",
   "metadata": {},
   "outputs": [
    {
     "data": {
      "text/plain": [
       "(65651, 2)"
      ]
     },
     "execution_count": 80,
     "metadata": {},
     "output_type": "execute_result"
    }
   ],
   "source": [
    "df3.shape"
   ]
  },
  {
   "cell_type": "code",
   "execution_count": 81,
   "id": "8b1672a1-3ed9-417e-a6e1-7215cf8bc0e7",
   "metadata": {},
   "outputs": [
    {
     "data": {
      "text/plain": [
       "74"
      ]
     },
     "execution_count": 81,
     "metadata": {},
     "output_type": "execute_result"
    }
   ],
   "source": [
    "65725 - 65651"
   ]
  },
  {
   "cell_type": "code",
   "execution_count": 86,
   "id": "70645f94-5df4-46d4-9047-2a086b8d6e90",
   "metadata": {},
   "outputs": [],
   "source": [
    "df['wawa'] = df.groupby('water_ml').mean()"
   ]
  },
  {
   "cell_type": "markdown",
   "id": "d59f6a98-3130-4295-8239-5b0cf2a41a2c",
   "metadata": {},
   "source": [
    "Find the combination of pet, favorite color, and web browser that has the smallest average water consumption. What is this group's average coffee consumption?"
   ]
  },
  {
   "cell_type": "code",
   "execution_count": 104,
   "id": "9c4e3626-0fea-498d-8c2a-bc96f55fc481",
   "metadata": {},
   "outputs": [],
   "source": [
    "close = df.groupby(['pet', 'favorite_color', 'web_browser']).water_ml.mean()"
   ]
  },
  {
   "cell_type": "code",
   "execution_count": 109,
   "id": "0cd8b1f4-dddb-4212-a1db-0eae1f7a227d",
   "metadata": {},
   "outputs": [
    {
     "data": {
      "text/plain": [
       "pet      favorite_color  web_browser\n",
       "dog      lightgray       Chrome         1293.164463\n",
       "hamster  aquamarine      Safari         1326.924167\n",
       "         paleturquoise   Opera          1330.873221\n",
       "         yellowgreen     Safari         1334.004825\n",
       "         darkred         Safari         1341.453844\n",
       "                                           ...     \n",
       "         mediumblue      Firefox        1663.808929\n",
       "         lightblue       Edge           1671.637242\n",
       "         deeppink        Edge           1674.619367\n",
       "cat      gray            Opera          1676.644435\n",
       "hamster  coral           Firefox        1687.345656\n",
       "Name: water_ml, Length: 2220, dtype: float64"
      ]
     },
     "execution_count": 109,
     "metadata": {},
     "output_type": "execute_result"
    }
   ],
   "source": [
    "df.groupby(['pet', 'favorite_color', 'web_browser']).water_ml.mean().sort_values()"
   ]
  },
  {
   "cell_type": "code",
   "execution_count": 111,
   "id": "5912df23-038b-4bfe-bff7-e0a296c685d0",
   "metadata": {},
   "outputs": [],
   "source": [
    "subset = df[df['pet'] == 'dog'].copy()\n",
    "subset = subset[subset['favorite_color'] == 'lightgray']\n",
    "subset = subset[subset['web_browser'] == 'Chrome']"
   ]
  },
  {
   "cell_type": "code",
   "execution_count": 116,
   "id": "d130b389-05af-4874-baf5-c09c35536e18",
   "metadata": {},
   "outputs": [
    {
     "data": {
      "text/plain": [
       "1663.33"
      ]
     },
     "execution_count": 116,
     "metadata": {},
     "output_type": "execute_result"
    }
   ],
   "source": [
    "round(subset.coffee_ml.mean(), 3)"
   ]
  },
  {
   "cell_type": "code",
   "execution_count": 110,
   "id": "f17f1ab3-f595-45d8-8198-54f98bace3a0",
   "metadata": {},
   "outputs": [
    {
     "data": {
      "text/plain": [
       "pet      favorite_color  web_browser  coffee_ml  \n",
       "hamster  cornsilk        Opera        2388.681589     398.266473\n",
       "cat      floralwhite     Chrome       2059.894436     478.022749\n",
       "dog      beige           Edge         1292.466121     540.070874\n",
       "hamster  darkgrey        Firefox      1213.331010     557.626654\n",
       "cat      rebeccapurple   Safari       751.451374      563.138281\n",
       "                                                        ...     \n",
       "         thistle         Chrome       2053.938940    2412.655757\n",
       "dog      gold            Chrome       1927.738847    2419.572463\n",
       "         lime            Firefox      1870.582886    2491.569600\n",
       "         rebeccapurple   Chrome       1943.899563    2536.881493\n",
       "cat      lightcoral      Firefox      1432.858134    2540.866166\n",
       "Name: water_ml, Length: 49666, dtype: float64"
      ]
     },
     "execution_count": 110,
     "metadata": {},
     "output_type": "execute_result"
    }
   ],
   "source": [
    "df.groupby(['pet', 'favorite_color', 'web_browser', 'coffee_ml']).water_ml.mean().sort_values()"
   ]
  },
  {
   "cell_type": "code",
   "execution_count": null,
   "id": "fa60db20-0ed2-47de-9ad7-5ea628ed545d",
   "metadata": {},
   "outputs": [],
   "source": []
  },
  {
   "cell_type": "code",
   "execution_count": 92,
   "id": "1f54184d-8b0c-4266-b9d7-5a564317a409",
   "metadata": {},
   "outputs": [
    {
     "name": "stderr",
     "output_type": "stream",
     "text": [
      "/usr/local/anaconda3/lib/python3.9/site-packages/pandas/core/apply.py:577: FutureWarning: Dropping of nuisance columns in DataFrame reductions (with 'numeric_only=None') is deprecated; in a future version this will raise TypeError.  Select only valid columns before calling the reduction.\n",
      "  return f(*args, **kwargs)\n"
     ]
    },
    {
     "data": {
      "text/plain": [
       "water_ml     1499.023954\n",
       "coffee_ml    1318.343659\n",
       "wawa                 NaN\n",
       "dtype: float64"
      ]
     },
     "execution_count": 92,
     "metadata": {},
     "output_type": "execute_result"
    }
   ],
   "source": [
    "df.agg('mean')"
   ]
  },
  {
   "cell_type": "code",
   "execution_count": 93,
   "id": "a3a4d628-a95e-4202-a626-10bc36193b61",
   "metadata": {},
   "outputs": [
    {
     "data": {
      "text/html": [
       "<div><div id=0c5946b0-00e8-44c3-bab2-fd4c3b048d77 style=\"display:none; background-color:#9D6CFF; color:white; width:200px; height:30px; padding-left:5px; border-radius:4px; flex-direction:row; justify-content:space-around; align-items:center;\" onmouseover=\"this.style.backgroundColor='#BA9BF8'\" onmouseout=\"this.style.backgroundColor='#9D6CFF'\" onclick=\"window.commands?.execute('create-mitosheet-from-dataframe-output');\">See Full Dataframe in Mito</div> <script> if (window.commands.hasCommand('create-mitosheet-from-dataframe-output')) document.getElementById('0c5946b0-00e8-44c3-bab2-fd4c3b048d77').style.display = 'flex' </script> <table border=\"1\" class=\"dataframe\">\n",
       "  <thead>\n",
       "    <tr style=\"text-align: right;\">\n",
       "      <th></th>\n",
       "      <th>coffee_ml</th>\n",
       "      <th>wawa</th>\n",
       "    </tr>\n",
       "    <tr>\n",
       "      <th>water_ml</th>\n",
       "      <th></th>\n",
       "      <th></th>\n",
       "    </tr>\n",
       "  </thead>\n",
       "  <tbody>\n",
       "    <tr>\n",
       "      <th>398.266473</th>\n",
       "      <td>2388.681589</td>\n",
       "      <td>NaN</td>\n",
       "    </tr>\n",
       "    <tr>\n",
       "      <th>478.022749</th>\n",
       "      <td>2059.894436</td>\n",
       "      <td>NaN</td>\n",
       "    </tr>\n",
       "    <tr>\n",
       "      <th>518.042559</th>\n",
       "      <td>0.000000</td>\n",
       "      <td>NaN</td>\n",
       "    </tr>\n",
       "    <tr>\n",
       "      <th>540.070874</th>\n",
       "      <td>1292.466121</td>\n",
       "      <td>NaN</td>\n",
       "    </tr>\n",
       "    <tr>\n",
       "      <th>540.304223</th>\n",
       "      <td>0.000000</td>\n",
       "      <td>NaN</td>\n",
       "    </tr>\n",
       "    <tr>\n",
       "      <th>...</th>\n",
       "      <td>...</td>\n",
       "      <td>...</td>\n",
       "    </tr>\n",
       "    <tr>\n",
       "      <th>2489.678069</th>\n",
       "      <td>0.000000</td>\n",
       "      <td>NaN</td>\n",
       "    </tr>\n",
       "    <tr>\n",
       "      <th>2491.569600</th>\n",
       "      <td>1870.582886</td>\n",
       "      <td>NaN</td>\n",
       "    </tr>\n",
       "    <tr>\n",
       "      <th>2536.881493</th>\n",
       "      <td>1943.899563</td>\n",
       "      <td>NaN</td>\n",
       "    </tr>\n",
       "    <tr>\n",
       "      <th>2540.866166</th>\n",
       "      <td>1432.858134</td>\n",
       "      <td>NaN</td>\n",
       "    </tr>\n",
       "    <tr>\n",
       "      <th>2546.256806</th>\n",
       "      <td>0.000000</td>\n",
       "      <td>NaN</td>\n",
       "    </tr>\n",
       "  </tbody>\n",
       "</table></div>"
      ],
      "text/plain": [
       "               coffee_ml  wawa\n",
       "water_ml                      \n",
       "398.266473   2388.681589   NaN\n",
       "478.022749   2059.894436   NaN\n",
       "518.042559      0.000000   NaN\n",
       "540.070874   1292.466121   NaN\n",
       "540.304223      0.000000   NaN\n",
       "...                  ...   ...\n",
       "2489.678069     0.000000   NaN\n",
       "2491.569600  1870.582886   NaN\n",
       "2536.881493  1943.899563   NaN\n",
       "2540.866166  1432.858134   NaN\n",
       "2546.256806     0.000000   NaN\n",
       "\n",
       "[65725 rows x 2 columns]"
      ]
     },
     "execution_count": 93,
     "metadata": {},
     "output_type": "execute_result"
    }
   ],
   "source": [
    "df.groupby('water_ml').mean()"
   ]
  },
  {
   "cell_type": "code",
   "execution_count": 97,
   "id": "49fecf0c-c20d-47b4-96f7-91935a60b567",
   "metadata": {},
   "outputs": [
    {
     "name": "stderr",
     "output_type": "stream",
     "text": [
      "/var/folders/qn/sd1_3x2j4196db03067vql600000gn/T/ipykernel_1435/3344869393.py:1: FutureWarning: Dropping invalid columns in DataFrameGroupBy.transform is deprecated. In a future version, a TypeError will be raised. Before calling .transform, select only columns which should be valid for the transforming function.\n",
      "  df.assign(avg_water=df.groupby('water_ml').transform('mean'))\n"
     ]
    },
    {
     "ename": "ValueError",
     "evalue": "Wrong number of items passed 2, placement implies 1",
     "output_type": "error",
     "traceback": [
      "\u001b[0;31m---------------------------------------------------------------------------\u001b[0m",
      "\u001b[0;31mKeyError\u001b[0m                                  Traceback (most recent call last)",
      "\u001b[0;32m/usr/local/anaconda3/lib/python3.9/site-packages/pandas/core/indexes/base.py\u001b[0m in \u001b[0;36mget_loc\u001b[0;34m(self, key, method, tolerance)\u001b[0m\n\u001b[1;32m   3360\u001b[0m             \u001b[0;32mtry\u001b[0m\u001b[0;34m:\u001b[0m\u001b[0;34m\u001b[0m\u001b[0;34m\u001b[0m\u001b[0m\n\u001b[0;32m-> 3361\u001b[0;31m                 \u001b[0;32mreturn\u001b[0m \u001b[0mself\u001b[0m\u001b[0;34m.\u001b[0m\u001b[0m_engine\u001b[0m\u001b[0;34m.\u001b[0m\u001b[0mget_loc\u001b[0m\u001b[0;34m(\u001b[0m\u001b[0mcasted_key\u001b[0m\u001b[0;34m)\u001b[0m\u001b[0;34m\u001b[0m\u001b[0;34m\u001b[0m\u001b[0m\n\u001b[0m\u001b[1;32m   3362\u001b[0m             \u001b[0;32mexcept\u001b[0m \u001b[0mKeyError\u001b[0m \u001b[0;32mas\u001b[0m \u001b[0merr\u001b[0m\u001b[0;34m:\u001b[0m\u001b[0;34m\u001b[0m\u001b[0;34m\u001b[0m\u001b[0m\n",
      "\u001b[0;32m/usr/local/anaconda3/lib/python3.9/site-packages/pandas/_libs/index.pyx\u001b[0m in \u001b[0;36mpandas._libs.index.IndexEngine.get_loc\u001b[0;34m()\u001b[0m\n",
      "\u001b[0;32m/usr/local/anaconda3/lib/python3.9/site-packages/pandas/_libs/index.pyx\u001b[0m in \u001b[0;36mpandas._libs.index.IndexEngine.get_loc\u001b[0;34m()\u001b[0m\n",
      "\u001b[0;32mpandas/_libs/hashtable_class_helper.pxi\u001b[0m in \u001b[0;36mpandas._libs.hashtable.PyObjectHashTable.get_item\u001b[0;34m()\u001b[0m\n",
      "\u001b[0;32mpandas/_libs/hashtable_class_helper.pxi\u001b[0m in \u001b[0;36mpandas._libs.hashtable.PyObjectHashTable.get_item\u001b[0;34m()\u001b[0m\n",
      "\u001b[0;31mKeyError\u001b[0m: 'avg_water'",
      "\nThe above exception was the direct cause of the following exception:\n",
      "\u001b[0;31mKeyError\u001b[0m                                  Traceback (most recent call last)",
      "\u001b[0;32m/usr/local/anaconda3/lib/python3.9/site-packages/pandas/core/frame.py\u001b[0m in \u001b[0;36m_set_item_mgr\u001b[0;34m(self, key, value)\u001b[0m\n\u001b[1;32m   3750\u001b[0m         \u001b[0;32mtry\u001b[0m\u001b[0;34m:\u001b[0m\u001b[0;34m\u001b[0m\u001b[0;34m\u001b[0m\u001b[0m\n\u001b[0;32m-> 3751\u001b[0;31m             \u001b[0mloc\u001b[0m \u001b[0;34m=\u001b[0m \u001b[0mself\u001b[0m\u001b[0;34m.\u001b[0m\u001b[0m_info_axis\u001b[0m\u001b[0;34m.\u001b[0m\u001b[0mget_loc\u001b[0m\u001b[0;34m(\u001b[0m\u001b[0mkey\u001b[0m\u001b[0;34m)\u001b[0m\u001b[0;34m\u001b[0m\u001b[0;34m\u001b[0m\u001b[0m\n\u001b[0m\u001b[1;32m   3752\u001b[0m         \u001b[0;32mexcept\u001b[0m \u001b[0mKeyError\u001b[0m\u001b[0;34m:\u001b[0m\u001b[0;34m\u001b[0m\u001b[0;34m\u001b[0m\u001b[0m\n",
      "\u001b[0;32m/usr/local/anaconda3/lib/python3.9/site-packages/pandas/core/indexes/base.py\u001b[0m in \u001b[0;36mget_loc\u001b[0;34m(self, key, method, tolerance)\u001b[0m\n\u001b[1;32m   3362\u001b[0m             \u001b[0;32mexcept\u001b[0m \u001b[0mKeyError\u001b[0m \u001b[0;32mas\u001b[0m \u001b[0merr\u001b[0m\u001b[0;34m:\u001b[0m\u001b[0;34m\u001b[0m\u001b[0;34m\u001b[0m\u001b[0m\n\u001b[0;32m-> 3363\u001b[0;31m                 \u001b[0;32mraise\u001b[0m \u001b[0mKeyError\u001b[0m\u001b[0;34m(\u001b[0m\u001b[0mkey\u001b[0m\u001b[0;34m)\u001b[0m \u001b[0;32mfrom\u001b[0m \u001b[0merr\u001b[0m\u001b[0;34m\u001b[0m\u001b[0;34m\u001b[0m\u001b[0m\n\u001b[0m\u001b[1;32m   3364\u001b[0m \u001b[0;34m\u001b[0m\u001b[0m\n",
      "\u001b[0;31mKeyError\u001b[0m: 'avg_water'",
      "\nDuring handling of the above exception, another exception occurred:\n",
      "\u001b[0;31mValueError\u001b[0m                                Traceback (most recent call last)",
      "\u001b[0;32m/var/folders/qn/sd1_3x2j4196db03067vql600000gn/T/ipykernel_1435/3344869393.py\u001b[0m in \u001b[0;36m<module>\u001b[0;34m\u001b[0m\n\u001b[0;32m----> 1\u001b[0;31m \u001b[0mdf\u001b[0m\u001b[0;34m.\u001b[0m\u001b[0massign\u001b[0m\u001b[0;34m(\u001b[0m\u001b[0mavg_water\u001b[0m\u001b[0;34m=\u001b[0m\u001b[0mdf\u001b[0m\u001b[0;34m.\u001b[0m\u001b[0mgroupby\u001b[0m\u001b[0;34m(\u001b[0m\u001b[0;34m'water_ml'\u001b[0m\u001b[0;34m)\u001b[0m\u001b[0;34m.\u001b[0m\u001b[0mtransform\u001b[0m\u001b[0;34m(\u001b[0m\u001b[0;34m'mean'\u001b[0m\u001b[0;34m)\u001b[0m\u001b[0;34m)\u001b[0m\u001b[0;34m\u001b[0m\u001b[0;34m\u001b[0m\u001b[0m\n\u001b[0m",
      "\u001b[0;32m/usr/local/anaconda3/lib/python3.9/site-packages/pandas/core/frame.py\u001b[0m in \u001b[0;36massign\u001b[0;34m(self, **kwargs)\u001b[0m\n\u001b[1;32m   4484\u001b[0m \u001b[0;34m\u001b[0m\u001b[0m\n\u001b[1;32m   4485\u001b[0m         \u001b[0;32mfor\u001b[0m \u001b[0mk\u001b[0m\u001b[0;34m,\u001b[0m \u001b[0mv\u001b[0m \u001b[0;32min\u001b[0m \u001b[0mkwargs\u001b[0m\u001b[0;34m.\u001b[0m\u001b[0mitems\u001b[0m\u001b[0;34m(\u001b[0m\u001b[0;34m)\u001b[0m\u001b[0;34m:\u001b[0m\u001b[0;34m\u001b[0m\u001b[0;34m\u001b[0m\u001b[0m\n\u001b[0;32m-> 4486\u001b[0;31m             \u001b[0mdata\u001b[0m\u001b[0;34m[\u001b[0m\u001b[0mk\u001b[0m\u001b[0;34m]\u001b[0m \u001b[0;34m=\u001b[0m \u001b[0mcom\u001b[0m\u001b[0;34m.\u001b[0m\u001b[0mapply_if_callable\u001b[0m\u001b[0;34m(\u001b[0m\u001b[0mv\u001b[0m\u001b[0;34m,\u001b[0m \u001b[0mdata\u001b[0m\u001b[0;34m)\u001b[0m\u001b[0;34m\u001b[0m\u001b[0;34m\u001b[0m\u001b[0m\n\u001b[0m\u001b[1;32m   4487\u001b[0m         \u001b[0;32mreturn\u001b[0m \u001b[0mdata\u001b[0m\u001b[0;34m\u001b[0m\u001b[0;34m\u001b[0m\u001b[0m\n\u001b[1;32m   4488\u001b[0m \u001b[0;34m\u001b[0m\u001b[0m\n",
      "\u001b[0;32m/usr/local/anaconda3/lib/python3.9/site-packages/pandas/core/frame.py\u001b[0m in \u001b[0;36m__setitem__\u001b[0;34m(self, key, value)\u001b[0m\n\u001b[1;32m   3600\u001b[0m             \u001b[0mself\u001b[0m\u001b[0;34m.\u001b[0m\u001b[0m_setitem_array\u001b[0m\u001b[0;34m(\u001b[0m\u001b[0mkey\u001b[0m\u001b[0;34m,\u001b[0m \u001b[0mvalue\u001b[0m\u001b[0;34m)\u001b[0m\u001b[0;34m\u001b[0m\u001b[0;34m\u001b[0m\u001b[0m\n\u001b[1;32m   3601\u001b[0m         \u001b[0;32melif\u001b[0m \u001b[0misinstance\u001b[0m\u001b[0;34m(\u001b[0m\u001b[0mvalue\u001b[0m\u001b[0;34m,\u001b[0m \u001b[0mDataFrame\u001b[0m\u001b[0;34m)\u001b[0m\u001b[0;34m:\u001b[0m\u001b[0;34m\u001b[0m\u001b[0;34m\u001b[0m\u001b[0m\n\u001b[0;32m-> 3602\u001b[0;31m             \u001b[0mself\u001b[0m\u001b[0;34m.\u001b[0m\u001b[0m_set_item_frame_value\u001b[0m\u001b[0;34m(\u001b[0m\u001b[0mkey\u001b[0m\u001b[0;34m,\u001b[0m \u001b[0mvalue\u001b[0m\u001b[0;34m)\u001b[0m\u001b[0;34m\u001b[0m\u001b[0;34m\u001b[0m\u001b[0m\n\u001b[0m\u001b[1;32m   3603\u001b[0m         elif (\n\u001b[1;32m   3604\u001b[0m             \u001b[0mis_list_like\u001b[0m\u001b[0;34m(\u001b[0m\u001b[0mvalue\u001b[0m\u001b[0;34m)\u001b[0m\u001b[0;34m\u001b[0m\u001b[0;34m\u001b[0m\u001b[0m\n",
      "\u001b[0;32m/usr/local/anaconda3/lib/python3.9/site-packages/pandas/core/frame.py\u001b[0m in \u001b[0;36m_set_item_frame_value\u001b[0;34m(self, key, value)\u001b[0m\n\u001b[1;32m   3740\u001b[0m         \u001b[0;31m# now align rows\u001b[0m\u001b[0;34m\u001b[0m\u001b[0;34m\u001b[0m\u001b[0m\n\u001b[1;32m   3741\u001b[0m         \u001b[0marraylike\u001b[0m \u001b[0;34m=\u001b[0m \u001b[0m_reindex_for_setitem\u001b[0m\u001b[0;34m(\u001b[0m\u001b[0mvalue\u001b[0m\u001b[0;34m,\u001b[0m \u001b[0mself\u001b[0m\u001b[0;34m.\u001b[0m\u001b[0mindex\u001b[0m\u001b[0;34m)\u001b[0m\u001b[0;34m\u001b[0m\u001b[0;34m\u001b[0m\u001b[0m\n\u001b[0;32m-> 3742\u001b[0;31m         \u001b[0mself\u001b[0m\u001b[0;34m.\u001b[0m\u001b[0m_set_item_mgr\u001b[0m\u001b[0;34m(\u001b[0m\u001b[0mkey\u001b[0m\u001b[0;34m,\u001b[0m \u001b[0marraylike\u001b[0m\u001b[0;34m)\u001b[0m\u001b[0;34m\u001b[0m\u001b[0;34m\u001b[0m\u001b[0m\n\u001b[0m\u001b[1;32m   3743\u001b[0m \u001b[0;34m\u001b[0m\u001b[0m\n\u001b[1;32m   3744\u001b[0m     \u001b[0;32mdef\u001b[0m \u001b[0m_iset_item_mgr\u001b[0m\u001b[0;34m(\u001b[0m\u001b[0mself\u001b[0m\u001b[0;34m,\u001b[0m \u001b[0mloc\u001b[0m\u001b[0;34m:\u001b[0m \u001b[0mint\u001b[0m \u001b[0;34m|\u001b[0m \u001b[0mslice\u001b[0m \u001b[0;34m|\u001b[0m \u001b[0mnp\u001b[0m\u001b[0;34m.\u001b[0m\u001b[0mndarray\u001b[0m\u001b[0;34m,\u001b[0m \u001b[0mvalue\u001b[0m\u001b[0;34m)\u001b[0m \u001b[0;34m->\u001b[0m \u001b[0;32mNone\u001b[0m\u001b[0;34m:\u001b[0m\u001b[0;34m\u001b[0m\u001b[0;34m\u001b[0m\u001b[0m\n",
      "\u001b[0;32m/usr/local/anaconda3/lib/python3.9/site-packages/pandas/core/frame.py\u001b[0m in \u001b[0;36m_set_item_mgr\u001b[0;34m(self, key, value)\u001b[0m\n\u001b[1;32m   3752\u001b[0m         \u001b[0;32mexcept\u001b[0m \u001b[0mKeyError\u001b[0m\u001b[0;34m:\u001b[0m\u001b[0;34m\u001b[0m\u001b[0;34m\u001b[0m\u001b[0m\n\u001b[1;32m   3753\u001b[0m             \u001b[0;31m# This item wasn't present, just insert at end\u001b[0m\u001b[0;34m\u001b[0m\u001b[0;34m\u001b[0m\u001b[0m\n\u001b[0;32m-> 3754\u001b[0;31m             \u001b[0mself\u001b[0m\u001b[0;34m.\u001b[0m\u001b[0m_mgr\u001b[0m\u001b[0;34m.\u001b[0m\u001b[0minsert\u001b[0m\u001b[0;34m(\u001b[0m\u001b[0mlen\u001b[0m\u001b[0;34m(\u001b[0m\u001b[0mself\u001b[0m\u001b[0;34m.\u001b[0m\u001b[0m_info_axis\u001b[0m\u001b[0;34m)\u001b[0m\u001b[0;34m,\u001b[0m \u001b[0mkey\u001b[0m\u001b[0;34m,\u001b[0m \u001b[0mvalue\u001b[0m\u001b[0;34m)\u001b[0m\u001b[0;34m\u001b[0m\u001b[0;34m\u001b[0m\u001b[0m\n\u001b[0m\u001b[1;32m   3755\u001b[0m         \u001b[0;32melse\u001b[0m\u001b[0;34m:\u001b[0m\u001b[0;34m\u001b[0m\u001b[0;34m\u001b[0m\u001b[0m\n\u001b[1;32m   3756\u001b[0m             \u001b[0mself\u001b[0m\u001b[0;34m.\u001b[0m\u001b[0m_iset_item_mgr\u001b[0m\u001b[0;34m(\u001b[0m\u001b[0mloc\u001b[0m\u001b[0;34m,\u001b[0m \u001b[0mvalue\u001b[0m\u001b[0;34m)\u001b[0m\u001b[0;34m\u001b[0m\u001b[0;34m\u001b[0m\u001b[0m\n",
      "\u001b[0;32m/usr/local/anaconda3/lib/python3.9/site-packages/pandas/core/internals/managers.py\u001b[0m in \u001b[0;36minsert\u001b[0;34m(self, loc, item, value)\u001b[0m\n\u001b[1;32m   1160\u001b[0m             \u001b[0mvalue\u001b[0m \u001b[0;34m=\u001b[0m \u001b[0mensure_block_shape\u001b[0m\u001b[0;34m(\u001b[0m\u001b[0mvalue\u001b[0m\u001b[0;34m,\u001b[0m \u001b[0mndim\u001b[0m\u001b[0;34m=\u001b[0m\u001b[0mself\u001b[0m\u001b[0;34m.\u001b[0m\u001b[0mndim\u001b[0m\u001b[0;34m)\u001b[0m\u001b[0;34m\u001b[0m\u001b[0;34m\u001b[0m\u001b[0m\n\u001b[1;32m   1161\u001b[0m \u001b[0;34m\u001b[0m\u001b[0m\n\u001b[0;32m-> 1162\u001b[0;31m         \u001b[0mblock\u001b[0m \u001b[0;34m=\u001b[0m \u001b[0mnew_block\u001b[0m\u001b[0;34m(\u001b[0m\u001b[0mvalues\u001b[0m\u001b[0;34m=\u001b[0m\u001b[0mvalue\u001b[0m\u001b[0;34m,\u001b[0m \u001b[0mndim\u001b[0m\u001b[0;34m=\u001b[0m\u001b[0mself\u001b[0m\u001b[0;34m.\u001b[0m\u001b[0mndim\u001b[0m\u001b[0;34m,\u001b[0m \u001b[0mplacement\u001b[0m\u001b[0;34m=\u001b[0m\u001b[0mslice\u001b[0m\u001b[0;34m(\u001b[0m\u001b[0mloc\u001b[0m\u001b[0;34m,\u001b[0m \u001b[0mloc\u001b[0m \u001b[0;34m+\u001b[0m \u001b[0;36m1\u001b[0m\u001b[0;34m)\u001b[0m\u001b[0;34m)\u001b[0m\u001b[0;34m\u001b[0m\u001b[0;34m\u001b[0m\u001b[0m\n\u001b[0m\u001b[1;32m   1163\u001b[0m \u001b[0;34m\u001b[0m\u001b[0m\n\u001b[1;32m   1164\u001b[0m         \u001b[0;32mfor\u001b[0m \u001b[0mblkno\u001b[0m\u001b[0;34m,\u001b[0m \u001b[0mcount\u001b[0m \u001b[0;32min\u001b[0m \u001b[0m_fast_count_smallints\u001b[0m\u001b[0;34m(\u001b[0m\u001b[0mself\u001b[0m\u001b[0;34m.\u001b[0m\u001b[0mblknos\u001b[0m\u001b[0;34m[\u001b[0m\u001b[0mloc\u001b[0m\u001b[0;34m:\u001b[0m\u001b[0;34m]\u001b[0m\u001b[0;34m)\u001b[0m\u001b[0;34m:\u001b[0m\u001b[0;34m\u001b[0m\u001b[0;34m\u001b[0m\u001b[0m\n",
      "\u001b[0;32m/usr/local/anaconda3/lib/python3.9/site-packages/pandas/core/internals/blocks.py\u001b[0m in \u001b[0;36mnew_block\u001b[0;34m(values, placement, ndim, klass)\u001b[0m\n\u001b[1;32m   1935\u001b[0m \u001b[0;34m\u001b[0m\u001b[0m\n\u001b[1;32m   1936\u001b[0m     \u001b[0mvalues\u001b[0m\u001b[0;34m,\u001b[0m \u001b[0m_\u001b[0m \u001b[0;34m=\u001b[0m \u001b[0mextract_pandas_array\u001b[0m\u001b[0;34m(\u001b[0m\u001b[0mvalues\u001b[0m\u001b[0;34m,\u001b[0m \u001b[0;32mNone\u001b[0m\u001b[0;34m,\u001b[0m \u001b[0mndim\u001b[0m\u001b[0;34m)\u001b[0m\u001b[0;34m\u001b[0m\u001b[0;34m\u001b[0m\u001b[0m\n\u001b[0;32m-> 1937\u001b[0;31m     \u001b[0mcheck_ndim\u001b[0m\u001b[0;34m(\u001b[0m\u001b[0mvalues\u001b[0m\u001b[0;34m,\u001b[0m \u001b[0mplacement\u001b[0m\u001b[0;34m,\u001b[0m \u001b[0mndim\u001b[0m\u001b[0;34m)\u001b[0m\u001b[0;34m\u001b[0m\u001b[0;34m\u001b[0m\u001b[0m\n\u001b[0m\u001b[1;32m   1938\u001b[0m \u001b[0;34m\u001b[0m\u001b[0m\n\u001b[1;32m   1939\u001b[0m     \u001b[0;32mif\u001b[0m \u001b[0mklass\u001b[0m \u001b[0;32mis\u001b[0m \u001b[0;32mNone\u001b[0m\u001b[0;34m:\u001b[0m\u001b[0;34m\u001b[0m\u001b[0;34m\u001b[0m\u001b[0m\n",
      "\u001b[0;32m/usr/local/anaconda3/lib/python3.9/site-packages/pandas/core/internals/blocks.py\u001b[0m in \u001b[0;36mcheck_ndim\u001b[0;34m(values, placement, ndim)\u001b[0m\n\u001b[1;32m   1977\u001b[0m             )\n\u001b[1;32m   1978\u001b[0m         \u001b[0;32mif\u001b[0m \u001b[0mlen\u001b[0m\u001b[0;34m(\u001b[0m\u001b[0mplacement\u001b[0m\u001b[0;34m)\u001b[0m \u001b[0;34m!=\u001b[0m \u001b[0mlen\u001b[0m\u001b[0;34m(\u001b[0m\u001b[0mvalues\u001b[0m\u001b[0;34m)\u001b[0m\u001b[0;34m:\u001b[0m\u001b[0;34m\u001b[0m\u001b[0;34m\u001b[0m\u001b[0m\n\u001b[0;32m-> 1979\u001b[0;31m             raise ValueError(\n\u001b[0m\u001b[1;32m   1980\u001b[0m                 \u001b[0;34mf\"Wrong number of items passed {len(values)}, \"\u001b[0m\u001b[0;34m\u001b[0m\u001b[0;34m\u001b[0m\u001b[0m\n\u001b[1;32m   1981\u001b[0m                 \u001b[0;34mf\"placement implies {len(placement)}\"\u001b[0m\u001b[0;34m\u001b[0m\u001b[0;34m\u001b[0m\u001b[0m\n",
      "\u001b[0;31mValueError\u001b[0m: Wrong number of items passed 2, placement implies 1"
     ]
    }
   ],
   "source": [
    "df.assign(avg_water=df.groupby('water_ml').transform('mean'))"
   ]
  },
  {
   "cell_type": "code",
   "execution_count": 100,
   "id": "5626cf58-35b1-43f1-873b-db0de5cf2d2e",
   "metadata": {},
   "outputs": [],
   "source": [
    "avg_water= df.groupby('water_ml').mean()"
   ]
  },
  {
   "cell_type": "code",
   "execution_count": 101,
   "id": "aa3a4143-a970-4f62-b8ba-e78ba7d603b9",
   "metadata": {},
   "outputs": [
    {
     "data": {
      "text/html": [
       "<div><div id=418e3407-28a8-4f23-a1a1-4149d4a4f268 style=\"display:none; background-color:#9D6CFF; color:white; width:200px; height:30px; padding-left:5px; border-radius:4px; flex-direction:row; justify-content:space-around; align-items:center;\" onmouseover=\"this.style.backgroundColor='#BA9BF8'\" onmouseout=\"this.style.backgroundColor='#9D6CFF'\" onclick=\"window.commands?.execute('create-mitosheet-from-dataframe-output');\">See Full Dataframe in Mito</div> <script> if (window.commands.hasCommand('create-mitosheet-from-dataframe-output')) document.getElementById('418e3407-28a8-4f23-a1a1-4149d4a4f268').style.display = 'flex' </script> <table border=\"1\" class=\"dataframe\">\n",
       "  <thead>\n",
       "    <tr style=\"text-align: right;\">\n",
       "      <th></th>\n",
       "      <th>coffee_ml</th>\n",
       "      <th>wawa</th>\n",
       "    </tr>\n",
       "    <tr>\n",
       "      <th>water_ml</th>\n",
       "      <th></th>\n",
       "      <th></th>\n",
       "    </tr>\n",
       "  </thead>\n",
       "  <tbody>\n",
       "    <tr>\n",
       "      <th>398.266473</th>\n",
       "      <td>2388.681589</td>\n",
       "      <td>NaN</td>\n",
       "    </tr>\n",
       "    <tr>\n",
       "      <th>478.022749</th>\n",
       "      <td>2059.894436</td>\n",
       "      <td>NaN</td>\n",
       "    </tr>\n",
       "    <tr>\n",
       "      <th>518.042559</th>\n",
       "      <td>0.000000</td>\n",
       "      <td>NaN</td>\n",
       "    </tr>\n",
       "    <tr>\n",
       "      <th>540.070874</th>\n",
       "      <td>1292.466121</td>\n",
       "      <td>NaN</td>\n",
       "    </tr>\n",
       "    <tr>\n",
       "      <th>540.304223</th>\n",
       "      <td>0.000000</td>\n",
       "      <td>NaN</td>\n",
       "    </tr>\n",
       "    <tr>\n",
       "      <th>...</th>\n",
       "      <td>...</td>\n",
       "      <td>...</td>\n",
       "    </tr>\n",
       "    <tr>\n",
       "      <th>2489.678069</th>\n",
       "      <td>0.000000</td>\n",
       "      <td>NaN</td>\n",
       "    </tr>\n",
       "    <tr>\n",
       "      <th>2491.569600</th>\n",
       "      <td>1870.582886</td>\n",
       "      <td>NaN</td>\n",
       "    </tr>\n",
       "    <tr>\n",
       "      <th>2536.881493</th>\n",
       "      <td>1943.899563</td>\n",
       "      <td>NaN</td>\n",
       "    </tr>\n",
       "    <tr>\n",
       "      <th>2540.866166</th>\n",
       "      <td>1432.858134</td>\n",
       "      <td>NaN</td>\n",
       "    </tr>\n",
       "    <tr>\n",
       "      <th>2546.256806</th>\n",
       "      <td>0.000000</td>\n",
       "      <td>NaN</td>\n",
       "    </tr>\n",
       "  </tbody>\n",
       "</table></div>"
      ],
      "text/plain": [
       "               coffee_ml  wawa\n",
       "water_ml                      \n",
       "398.266473   2388.681589   NaN\n",
       "478.022749   2059.894436   NaN\n",
       "518.042559      0.000000   NaN\n",
       "540.070874   1292.466121   NaN\n",
       "540.304223      0.000000   NaN\n",
       "...                  ...   ...\n",
       "2489.678069     0.000000   NaN\n",
       "2491.569600  1870.582886   NaN\n",
       "2536.881493  1943.899563   NaN\n",
       "2540.866166  1432.858134   NaN\n",
       "2546.256806     0.000000   NaN\n",
       "\n",
       "[65725 rows x 2 columns]"
      ]
     },
     "execution_count": 101,
     "metadata": {},
     "output_type": "execute_result"
    }
   ],
   "source": [
    "avg_water"
   ]
  },
  {
   "cell_type": "code",
   "execution_count": 119,
   "id": "37d7293c-e3fa-4883-92fa-43fa026349cc",
   "metadata": {},
   "outputs": [
    {
     "data": {
      "text/plain": [
       "Text(0.5, 1.0, 'Average Coffee Consumption by Web Browser')"
      ]
     },
     "execution_count": 119,
     "metadata": {},
     "output_type": "execute_result"
    },
    {
     "data": {
      "image/png": "[encoded data removed]",
      "text/plain": [
       "<Figure size 432x288 with 1 Axes>"
      ]
     },
     "metadata": {
      "needs_background": "light"
     },
     "output_type": "display_data"
    }
   ],
   "source": [
    "df.groupby('web_browser').coffee_ml.mean().sort_values(ascending=False).plot.bar().set_title('Average Coffee Consumption by Web Browser')"
   ]
  },
  {
   "cell_type": "code",
   "execution_count": null,
   "id": "351edde6-a9a2-4786-ab90-46f700544f81",
   "metadata": {},
   "outputs": [],
   "source": [
    "set_title('Tech"
   ]
  }
 ],
 "metadata": {
  "kernelspec": {
   "display_name": "Python 3 (ipykernel)",
   "language": "python",
   "name": "python3"
  },
  "language_info": {
   "codemirror_mode": {
    "name": "ipython",
    "version": 3
   },
   "file_extension": ".py",
   "mimetype": "text/x-python",
   "name": "python",
   "nbconvert_exporter": "python",
   "pygments_lexer": "ipython3",
   "version": "3.9.7"
  }
 },
 "nbformat": 4,
 "nbformat_minor": 5
}
