{
 "cells": [
  {
   "cell_type": "code",
   "execution_count": 2,
   "id": "0cb65573",
   "metadata": {},
   "outputs": [],
   "source": [
    "import matplotlib.pyplot as plt\n",
    "import seaborn as sns\n",
    "\n",
    "import numpy as np\n",
    "import pandas as pd\n",
    "\n",
    "import scipy.stats as stats\n",
    "import sklearn.metrics\n",
    "from sklearn.linear_model import LinearRegression"
   ]
  },
  {
   "cell_type": "markdown",
   "id": "5011626d",
   "metadata": {},
   "source": [
    "# Evaluation (Linear) Regression Models\n",
    "\n",
    "## Exercises\n",
    "\n",
    "### Do you work for this exercise in a jupyter notebook named evaluate within your regression-exercises repository. By the end of this exercise you will also create a python script named evaluate, so the overall deliverables for this exercise are the python script and jupyter notebook both with the name evaluate within your regression-exercises repo."
   ]
  },
  {
   "cell_type": "markdown",
   "id": "7e44a06f",
   "metadata": {},
   "source": [
    "1. Load the tips dataset from either pydataset or seaborn.\n",
    "***\n",
    "2. Fit a linear regression model (ordinary least squares) and compute yhat, predictions of tip using total_bill.\n",
    "***\n",
    "3. Plot the residuals for the linear regression model that you made.\n",
    "***\n",
    "4. Calculate the sum of squared errors, explained sum of squares, total sum of squares, mean squared error, and root mean squared error for your model.\n",
    "***\n",
    "5. Calculate the sum of squared errors, mean squared error, and root mean squared error for the baseline model (i.e. a model that always predicts the average tip amount).\n",
    "***\n",
    "6. Write python code that compares the sum of squared errors for your model against the sum of squared errors for the baseline model and outputs whether or not your model performs better than the baseline model.\n",
    "***\n",
    "7. What is the amount of variance explained in your model?\n",
    "***\n",
    "8. Is your model better than the baseline model?\n",
    "*** \n",
    "9. Create a file named evaluate.py that contains the following functions.\n",
    "\n",
    "   - plot_residuals(y, yhat): creates a residual plot\n",
    "   - regression_errors(y, yhat): returns the following values:\n",
    "   - sum of squared errors (SSE)\n",
    "   - explained sum of squares (ESS)\n",
    "   - total sum of squares (TSS)\n",
    "   - mean squared error (MSE)\n",
    "   - root mean squared error (RMSE)\n",
    "   - baseline_mean_errors(y): computes the SSE, MSE, and RMSE for the baseline model\n",
    "   - better_than_baseline(y, yhat): returns true if your model performs better than the baseline, otherwise false\n",
    "*** \n",
    "10. Load the mpg dataset and fit a model that predicts highway mileage based on engine displacement. Take a look at all the regression evaluation metrics, and determine whether this model is better than the baseline model. Use the functions from your evaluate.py to help accomplish this."
   ]
  },
  {
   "cell_type": "markdown",
   "id": "68719982",
   "metadata": {},
   "source": [
    "1. Load the tips dataset from either pydataset or seaborn."
   ]
  },
  {
   "cell_type": "code",
   "execution_count": 4,
   "id": "5236242d",
   "metadata": {},
   "outputs": [
    {
     "data": {
      "text/html": [
       "<div>\n",
       "<style scoped>\n",
       "    .dataframe tbody tr th:only-of-type {\n",
       "        vertical-align: middle;\n",
       "    }\n",
       "\n",
       "    .dataframe tbody tr th {\n",
       "        vertical-align: top;\n",
       "    }\n",
       "\n",
       "    .dataframe thead th {\n",
       "        text-align: right;\n",
       "    }\n",
       "</style>\n",
       "<table border=\"1\" class=\"dataframe\">\n",
       "  <thead>\n",
       "    <tr style=\"text-align: right;\">\n",
       "      <th></th>\n",
       "      <th>total_bill</th>\n",
       "      <th>tip</th>\n",
       "      <th>sex</th>\n",
       "      <th>smoker</th>\n",
       "      <th>day</th>\n",
       "      <th>time</th>\n",
       "      <th>size</th>\n",
       "    </tr>\n",
       "  </thead>\n",
       "  <tbody>\n",
       "    <tr>\n",
       "      <th>0</th>\n",
       "      <td>16.99</td>\n",
       "      <td>1.01</td>\n",
       "      <td>Female</td>\n",
       "      <td>No</td>\n",
       "      <td>Sun</td>\n",
       "      <td>Dinner</td>\n",
       "      <td>2</td>\n",
       "    </tr>\n",
       "    <tr>\n",
       "      <th>1</th>\n",
       "      <td>10.34</td>\n",
       "      <td>1.66</td>\n",
       "      <td>Male</td>\n",
       "      <td>No</td>\n",
       "      <td>Sun</td>\n",
       "      <td>Dinner</td>\n",
       "      <td>3</td>\n",
       "    </tr>\n",
       "    <tr>\n",
       "      <th>2</th>\n",
       "      <td>21.01</td>\n",
       "      <td>3.50</td>\n",
       "      <td>Male</td>\n",
       "      <td>No</td>\n",
       "      <td>Sun</td>\n",
       "      <td>Dinner</td>\n",
       "      <td>3</td>\n",
       "    </tr>\n",
       "    <tr>\n",
       "      <th>3</th>\n",
       "      <td>23.68</td>\n",
       "      <td>3.31</td>\n",
       "      <td>Male</td>\n",
       "      <td>No</td>\n",
       "      <td>Sun</td>\n",
       "      <td>Dinner</td>\n",
       "      <td>2</td>\n",
       "    </tr>\n",
       "    <tr>\n",
       "      <th>4</th>\n",
       "      <td>24.59</td>\n",
       "      <td>3.61</td>\n",
       "      <td>Female</td>\n",
       "      <td>No</td>\n",
       "      <td>Sun</td>\n",
       "      <td>Dinner</td>\n",
       "      <td>4</td>\n",
       "    </tr>\n",
       "  </tbody>\n",
       "</table>\n",
       "</div>"
      ],
      "text/plain": [
       "   total_bill   tip     sex smoker  day    time  size\n",
       "0       16.99  1.01  Female     No  Sun  Dinner     2\n",
       "1       10.34  1.66    Male     No  Sun  Dinner     3\n",
       "2       21.01  3.50    Male     No  Sun  Dinner     3\n",
       "3       23.68  3.31    Male     No  Sun  Dinner     2\n",
       "4       24.59  3.61  Female     No  Sun  Dinner     4"
      ]
     },
     "execution_count": 4,
     "metadata": {},
     "output_type": "execute_result"
    }
   ],
   "source": [
    "tips = sns.load_dataset('tips')\n",
    "tips.head()"
   ]
  },
  {
   "cell_type": "markdown",
   "id": "a4075cbd",
   "metadata": {},
   "source": [
    "2. Fit a linear regression model (ordinary least squares) and compute yhat, predictions of tip using total_bill."
   ]
  },
  {
   "cell_type": "code",
   "execution_count": 8,
   "id": "ac0c0b1b",
   "metadata": {},
   "outputs": [],
   "source": [
    "# generate parameters, create model and fit it. \n",
    "ols_model = LinearRegression().fit(tips[['total_bill']], tips.tip)\n",
    "# make prediction \n",
    "tips['yhat'] = ols_model.predict(tips[['total_bill']])"
   ]
  },
  {
   "cell_type": "code",
   "execution_count": 16,
   "id": "ce7e3869",
   "metadata": {},
   "outputs": [],
   "source": [
    "actual = tips.tip\n",
    "predicted = ols_model.predict(tips[['total_bill']])"
   ]
  },
  {
   "cell_type": "code",
   "execution_count": 9,
   "id": "8aae38b3",
   "metadata": {},
   "outputs": [],
   "source": [
    "# baseline prediction as the mean or median of tip \n",
    "tips['baseline'] = tips.tip.mean()"
   ]
  },
  {
   "cell_type": "code",
   "execution_count": 11,
   "id": "8bf3ef18",
   "metadata": {},
   "outputs": [
    {
     "data": {
      "text/plain": [
       "<AxesSubplot:xlabel='total_bill', ylabel='tip'>"
      ]
     },
     "execution_count": 11,
     "metadata": {},
     "output_type": "execute_result"
    },
    {
     "data": {
      "image/png": "[encoded data removed]",
      "text/plain": [
       "<Figure size 432x288 with 1 Axes>"
      ]
     },
     "metadata": {
      "needs_background": "light"
     },
     "output_type": "display_data"
    }
   ],
   "source": [
    "# tips.head()\n",
    "# plot data with prediction line\n",
    "\n",
    "sns.scatterplot(x = 'total_bill', y = 'tip', data = tips)\n",
    "sns.lineplot(x = 'total_bill', y = 'baseline', data = tips)\n",
    "sns.lineplot(x = 'total_bill', y = 'yhat', data = tips)"
   ]
  },
  {
   "cell_type": "markdown",
   "id": "31dad5fa",
   "metadata": {},
   "source": [
    "3. Plot the residuals for the linear regression model that you made.\n",
    "\n",
    "\"The residual of an observed value is the difference between the observed value and the estimated value. Another way to state this is that it is the vertical distance from the original data point to the expected data point (which shares an x and sits on the regression line).\"\n",
    "\n",
    "The residuals are the foundation for evaluating the effectiveness of a regression model.\n"
   ]
  },
  {
   "cell_type": "code",
   "execution_count": 17,
   "id": "526c5491",
   "metadata": {},
   "outputs": [],
   "source": [
    "# compute residuals\n",
    "tips['residual'] = tips['tip'] - tips['yhat'] \n",
    "tips['residual_baseline'] = tips['tip'] - tips['baseline']"
   ]
  },
  {
   "cell_type": "code",
   "execution_count": 24,
   "id": "a03c7edb",
   "metadata": {},
   "outputs": [],
   "source": [
    "# compute residuals in textbook order\n",
    "tips['residual2'] = tips['yhat'] - tips['tip']\n",
    "tips['residual_baseline2'] = tips['baseline'] - tips['tip']"
   ]
  },
  {
   "cell_type": "code",
   "execution_count": 26,
   "id": "23020b6f",
   "metadata": {},
   "outputs": [
    {
     "data": {
      "text/html": [
       "<div>\n",
       "<style scoped>\n",
       "    .dataframe tbody tr th:only-of-type {\n",
       "        vertical-align: middle;\n",
       "    }\n",
       "\n",
       "    .dataframe tbody tr th {\n",
       "        vertical-align: top;\n",
       "    }\n",
       "\n",
       "    .dataframe thead th {\n",
       "        text-align: right;\n",
       "    }\n",
       "</style>\n",
       "<table border=\"1\" class=\"dataframe\">\n",
       "  <thead>\n",
       "    <tr style=\"text-align: right;\">\n",
       "      <th></th>\n",
       "      <th>total_bill</th>\n",
       "      <th>tip</th>\n",
       "      <th>sex</th>\n",
       "      <th>smoker</th>\n",
       "      <th>day</th>\n",
       "      <th>time</th>\n",
       "      <th>size</th>\n",
       "      <th>yhat</th>\n",
       "      <th>baseline</th>\n",
       "      <th>residual</th>\n",
       "      <th>residual_baseline</th>\n",
       "      <th>residual2</th>\n",
       "      <th>residual_baseline2</th>\n",
       "    </tr>\n",
       "  </thead>\n",
       "  <tbody>\n",
       "    <tr>\n",
       "      <th>0</th>\n",
       "      <td>16.99</td>\n",
       "      <td>1.01</td>\n",
       "      <td>Female</td>\n",
       "      <td>No</td>\n",
       "      <td>Sun</td>\n",
       "      <td>Dinner</td>\n",
       "      <td>2</td>\n",
       "      <td>2.704636</td>\n",
       "      <td>2.998279</td>\n",
       "      <td>-1.694636</td>\n",
       "      <td>-1.988279</td>\n",
       "      <td>1.694636</td>\n",
       "      <td>1.988279</td>\n",
       "    </tr>\n",
       "    <tr>\n",
       "      <th>1</th>\n",
       "      <td>10.34</td>\n",
       "      <td>1.66</td>\n",
       "      <td>Male</td>\n",
       "      <td>No</td>\n",
       "      <td>Sun</td>\n",
       "      <td>Dinner</td>\n",
       "      <td>3</td>\n",
       "      <td>2.006223</td>\n",
       "      <td>2.998279</td>\n",
       "      <td>-0.346223</td>\n",
       "      <td>-1.338279</td>\n",
       "      <td>0.346223</td>\n",
       "      <td>1.338279</td>\n",
       "    </tr>\n",
       "    <tr>\n",
       "      <th>2</th>\n",
       "      <td>21.01</td>\n",
       "      <td>3.50</td>\n",
       "      <td>Male</td>\n",
       "      <td>No</td>\n",
       "      <td>Sun</td>\n",
       "      <td>Dinner</td>\n",
       "      <td>3</td>\n",
       "      <td>3.126835</td>\n",
       "      <td>2.998279</td>\n",
       "      <td>0.373165</td>\n",
       "      <td>0.501721</td>\n",
       "      <td>-0.373165</td>\n",
       "      <td>-0.501721</td>\n",
       "    </tr>\n",
       "    <tr>\n",
       "      <th>3</th>\n",
       "      <td>23.68</td>\n",
       "      <td>3.31</td>\n",
       "      <td>Male</td>\n",
       "      <td>No</td>\n",
       "      <td>Sun</td>\n",
       "      <td>Dinner</td>\n",
       "      <td>2</td>\n",
       "      <td>3.407250</td>\n",
       "      <td>2.998279</td>\n",
       "      <td>-0.097250</td>\n",
       "      <td>0.311721</td>\n",
       "      <td>0.097250</td>\n",
       "      <td>-0.311721</td>\n",
       "    </tr>\n",
       "    <tr>\n",
       "      <th>4</th>\n",
       "      <td>24.59</td>\n",
       "      <td>3.61</td>\n",
       "      <td>Female</td>\n",
       "      <td>No</td>\n",
       "      <td>Sun</td>\n",
       "      <td>Dinner</td>\n",
       "      <td>4</td>\n",
       "      <td>3.502822</td>\n",
       "      <td>2.998279</td>\n",
       "      <td>0.107178</td>\n",
       "      <td>0.611721</td>\n",
       "      <td>-0.107178</td>\n",
       "      <td>-0.611721</td>\n",
       "    </tr>\n",
       "  </tbody>\n",
       "</table>\n",
       "</div>"
      ],
      "text/plain": [
       "   total_bill   tip     sex smoker  day    time  size      yhat  baseline  \\\n",
       "0       16.99  1.01  Female     No  Sun  Dinner     2  2.704636  2.998279   \n",
       "1       10.34  1.66    Male     No  Sun  Dinner     3  2.006223  2.998279   \n",
       "2       21.01  3.50    Male     No  Sun  Dinner     3  3.126835  2.998279   \n",
       "3       23.68  3.31    Male     No  Sun  Dinner     2  3.407250  2.998279   \n",
       "4       24.59  3.61  Female     No  Sun  Dinner     4  3.502822  2.998279   \n",
       "\n",
       "   residual  residual_baseline  residual2  residual_baseline2  \n",
       "0 -1.694636          -1.988279   1.694636            1.988279  \n",
       "1 -0.346223          -1.338279   0.346223            1.338279  \n",
       "2  0.373165           0.501721  -0.373165           -0.501721  \n",
       "3 -0.097250           0.311721   0.097250           -0.311721  \n",
       "4  0.107178           0.611721  -0.107178           -0.611721  "
      ]
     },
     "execution_count": 26,
     "metadata": {},
     "output_type": "execute_result"
    }
   ],
   "source": [
    "tips.head()"
   ]
  },
  {
   "cell_type": "code",
   "execution_count": 19,
   "id": "643a9120",
   "metadata": {},
   "outputs": [
    {
     "data": {
      "text/plain": [
       "<seaborn.axisgrid.FacetGrid at 0x7fa3ecfb6eb0>"
      ]
     },
     "execution_count": 19,
     "metadata": {},
     "output_type": "execute_result"
    },
    {
     "data": {
      "image/png": "[encoded data removed]",
      "text/plain": [
       "<Figure size 360x360 with 1 Axes>"
      ]
     },
     "metadata": {
      "needs_background": "light"
     },
     "output_type": "display_data"
    }
   ],
   "source": [
    "sns.relplot(x = 'total_bill', y = 'residual', data = tips)"
   ]
  },
  {
   "cell_type": "markdown",
   "id": "0dcad350",
   "metadata": {},
   "source": [
    "4. Calculate the sum of squared errors, explained sum of squares, total sum of squares, mean squared error, and root mean squared error for your model.\n",
    "\n",
    "\"__SSE__\n",
    "\n",
    "Sometimes the Sum of the Squared Errors (SSE, a.k.a RSS, Residual Sum of Squares) will be used as the final metric to evaluate. Most times, however, this is used as a stepping stone to the other metrics, such as MSE and RMSE. If outliers matter, this is a good metric to use.\n",
    "\n",
    "The value of the SSE is derived by simply squaring each of the errors computed in step one and summing them all together"
   ]
  },
  {
   "cell_type": "code",
   "execution_count": 31,
   "id": "5fbd72df",
   "metadata": {},
   "outputs": [
    {
     "name": "stdout",
     "output_type": "stream",
     "text": [
      " The Sum of the Squared Errors of the Ordinary Least Squares model is \n",
      " 252.789\n",
      " MSE: 1.036019442011377\n",
      " RMSE: 1.0178504025697377\n",
      " ESS: 212.4237331984042\n",
      " TSS: 465.21247704918017\n"
     ]
    }
   ],
   "source": [
    "# I'll do this using both the manual method as well as the scikitlearn approach\n",
    "SSE = (tips.residual**2).sum()\n",
    "print(f' The Sum of the Squared Errors of the Ordinary Least Squares model is \\n {round(SSE, 3)}')\n",
    "\n",
    "MSE = SSE/len(tips)\n",
    "print(f' MSE: {MSE}')\n",
    "\n",
    "# RMSE of OLS model\n",
    "RMSE = mean_squared_error(tips.tip, tips.yhat, squared = False)\n",
    "print(f' RMSE: {RMSE}')\n",
    "\n",
    "# ESS = sum(tips.yhat - tips.tip.mean())**2\n",
    "\n",
    "ESS = sum((tips.yhat - tips.baseline)**2)\n",
    "print(f' ESS: {ESS}')\n",
    "\n",
    "# Total Sum of Errors\n",
    "\n",
    "TSS = ESS + SSE\n",
    "print(f' TSS: {TSS}')"
   ]
  },
  {
   "cell_type": "code",
   "execution_count": 40,
   "id": "b908a27a",
   "metadata": {},
   "outputs": [
    {
     "name": "stdout",
     "output_type": "stream",
     "text": [
      " SSE: 252.788743850776\n",
      " MSE: 1.036019442011377\n",
      " RMSE: 1.0178504025697377\n"
     ]
    }
   ],
   "source": [
    "from sklearn.metrics import mean_squared_error\n",
    "from math import sqrt\n",
    "\n",
    "SSE2 = mean_squared_error(tips['tip'], tips['yhat'])*len(tips)\n",
    "print(f' SSE: {SSE2}') \n",
    "MSE2 = mean_squared_error(tips.tip, tips.yhat)\n",
    "print(f' MSE: {MSE2}') \n",
    "RMSE2 = sqrt(mean_squared_error(tips.tip, tips.yhat))\n",
    "print(f' RMSE: {RMSE2}') "
   ]
  },
  {
   "cell_type": "code",
   "execution_count": 35,
   "id": "b4fede33",
   "metadata": {},
   "outputs": [],
   "source": [
    "#SSE = (tips.residual2**2).sum()\n",
    "#print(f' The Sum of the Squared Errors of the Ordinary Least Squares model is \\n {round(SSE, 3)}')\n",
    "#\n",
    "#MSE = SSE/len(tips)\n",
    "#print(MSE)"
   ]
  },
  {
   "cell_type": "code",
   "execution_count": 36,
   "id": "21f53c0e",
   "metadata": {},
   "outputs": [],
   "source": [
    "#from sklearn.metrics import mean_squared_error\n",
    "#\n",
    "#SSE2 = mean_squared_error(tips['yhat'], tips['tip'])*len(tips)\n",
    "#print(SSE2) \n",
    "#\n",
    "# after doing all this, I cannot see a reason why the order of the actual or predictor would\n",
    "# matter when taking the difference. So I'll proceed as is. "
   ]
  },
  {
   "cell_type": "markdown",
   "id": "d5858578",
   "metadata": {},
   "source": [
    "5. Calculate the sum of squared errors, mean squared error, and root mean squared error for the baseline model (i.e. a model that always predicts the average tip amount)."
   ]
  },
  {
   "cell_type": "code",
   "execution_count": 34,
   "id": "d7e2265b",
   "metadata": {},
   "outputs": [
    {
     "name": "stdout",
     "output_type": "stream",
     "text": [
      " The SSE of the baseline model is 465.2\n",
      " MSE of baseline = 1.906608512496641\n",
      " RMSE of baseline = 1.3807999538298954\n"
     ]
    }
   ],
   "source": [
    "SSE_baseline = (tips.residual_baseline**2).sum()\n",
    "print(f' The SSE of the baseline model is {round(SSE_baseline,1)}')\n",
    "\n",
    "#Mean squared error of baseline model:\n",
    "\n",
    "MSE_baseline = SSE_baseline/len(tips)\n",
    "print(f' MSE of baseline = {MSE_baseline}')\n",
    "\n",
    "# RMSE for the baseline model\n",
    "RMSE_baseline = mean_squared_error(tips.tip, tips.baseline, squared = False)\n",
    "print(f' RMSE of baseline = {RMSE_baseline}')"
   ]
  },
  {
   "cell_type": "markdown",
   "id": "a40cac6c",
   "metadata": {},
   "source": [
    "6. Write python code that compares the sum of squared errors for your model against the sum of squared errors for the baseline model and outputs whether or not your model performs better than the baseline model."
   ]
  },
  {
   "cell_type": "code",
   "execution_count": 44,
   "id": "ffb6be38",
   "metadata": {},
   "outputs": [
    {
     "data": {
      "text/html": [
       "<div>\n",
       "<style scoped>\n",
       "    .dataframe tbody tr th:only-of-type {\n",
       "        vertical-align: middle;\n",
       "    }\n",
       "\n",
       "    .dataframe tbody tr th {\n",
       "        vertical-align: top;\n",
       "    }\n",
       "\n",
       "    .dataframe thead th {\n",
       "        text-align: right;\n",
       "    }\n",
       "</style>\n",
       "<table border=\"1\" class=\"dataframe\">\n",
       "  <thead>\n",
       "    <tr style=\"text-align: right;\">\n",
       "      <th></th>\n",
       "      <th>metric</th>\n",
       "      <th>model_error</th>\n",
       "      <th>baseline_error</th>\n",
       "      <th>better_than_baseline</th>\n",
       "    </tr>\n",
       "  </thead>\n",
       "  <tbody>\n",
       "    <tr>\n",
       "      <th>0</th>\n",
       "      <td>SSE</td>\n",
       "      <td>252.788744</td>\n",
       "      <td>465.212477</td>\n",
       "      <td>True</td>\n",
       "    </tr>\n",
       "    <tr>\n",
       "      <th>1</th>\n",
       "      <td>MSE</td>\n",
       "      <td>1.036019</td>\n",
       "      <td>1.906609</td>\n",
       "      <td>True</td>\n",
       "    </tr>\n",
       "    <tr>\n",
       "      <th>2</th>\n",
       "      <td>RMSE</td>\n",
       "      <td>1.017850</td>\n",
       "      <td>1.380800</td>\n",
       "      <td>True</td>\n",
       "    </tr>\n",
       "  </tbody>\n",
       "</table>\n",
       "</div>"
      ],
      "text/plain": [
       "  metric  model_error  baseline_error  better_than_baseline\n",
       "0    SSE   252.788744      465.212477                  True\n",
       "1    MSE     1.036019        1.906609                  True\n",
       "2   RMSE     1.017850        1.380800                  True"
      ]
     },
     "execution_count": 44,
     "metadata": {},
     "output_type": "execute_result"
    }
   ],
   "source": [
    "df_eval = pd.DataFrame(np.array(['SSE', 'MSE','RMSE']), columns=['metric'])\n",
    "df_eval['model_error'] = np.array([SSE,  MSE, RMSE])\n",
    "df_eval['baseline_error'] = np.array([SSE_baseline,MSE_baseline, RMSE_baseline])\n",
    "\n",
    "df_eval['better_than_baseline'] = df_eval.baseline_error > df_eval.model_error\n",
    "\n",
    "df_eval"
   ]
  },
  {
   "cell_type": "markdown",
   "id": "2a789d56",
   "metadata": {},
   "source": [
    "7. What is the amount of variance explained in your model?"
   ]
  },
  {
   "cell_type": "code",
   "execution_count": 45,
   "id": "cd49c527",
   "metadata": {},
   "outputs": [
    {
     "data": {
      "text/plain": [
       "0.45661658635167657"
      ]
     },
     "execution_count": 45,
     "metadata": {},
     "output_type": "execute_result"
    }
   ],
   "source": [
    "from sklearn.metrics import r2_score\n",
    "r2_score(tips.tip, tips.yhat)"
   ]
  },
  {
   "cell_type": "markdown",
   "id": "485ce121",
   "metadata": {},
   "source": [
    "8. Is your model better than the baseline model?"
   ]
  },
  {
   "cell_type": "code",
   "execution_count": 46,
   "id": "93489ab0",
   "metadata": {},
   "outputs": [],
   "source": [
    "# Most definitely. "
   ]
  },
  {
   "cell_type": "markdown",
   "id": "71d00ad2",
   "metadata": {},
   "source": [
    "9. Create a file named evaluate.py that contains the following functions.\n",
    "\n",
    "   - plot_residuals(y, yhat): creates a residual plot\n",
    "   - regression_errors(y, yhat): returns the following values:\n",
    "   - sum of squared errors (SSE)\n",
    "   - explained sum of squares (ESS)\n",
    "   - total sum of squares (TSS)\n",
    "   - mean squared error (MSE)\n",
    "   - root mean squared error (RMSE)\n",
    "   - baseline_mean_errors(y): computes the SSE, MSE, and RMSE for the baseline model\n",
    "   - better_than_baseline(y, yhat): returns true if your model performs better than the baseline, otherwise false"
   ]
  },
  {
   "cell_type": "code",
   "execution_count": 48,
   "id": "5d4880ea",
   "metadata": {},
   "outputs": [],
   "source": [
    "def plot_residuals(df, yhat, y):\n",
    "    '''\n",
    "    This function takes in a dataframe, the actual target variable \n",
    "    and model predictions then creates columns for residuals\n",
    "    and baseline residuals. It returns a graph of both residual columns.\n",
    "    '''\n",
    "\n",
    "    # create a residual column\n",
    "    df['residual'] = (yhat - y)\n",
    "\n",
    "    # create a residual baseline column\n",
    "    df['residual_baseline'] = (y.mean() - y)\n",
    "    \n",
    "    fig, ax = plt.subplots(figsize=(13,7))\n",
    "\n",
    "    ax.hist(df.residual_baseline, label='baseline residuals', alpha=.6)\n",
    "    ax.hist(df.residual, label='model residuals', alpha=.6)\n",
    "    ax.legend()\n",
    "\n",
    "    plt.show()\n",
    "\n",
    "def regression_errors(df, yhat, y):\n",
    "    '''\n",
    "    \n",
    "    '''\n",
    "    \n",
    "    SSE = mean_squared_error(yhat, y)*len(df)\n",
    "    MSE = mean_squared_error(yhat, y)\n",
    "    RMSE = sqrt(mean_squared_error(yhat, y))\n",
    "    ESS = sum((yhat - y.mean())**2)\n",
    "    TSS = sum((y - y.mean())**2)\n",
    "\n",
    "    # compute explained variance\n",
    "    R2 = ESS / TSS\n",
    "    \n",
    "    print('SSE is:', SSE)\n",
    "    print('ESS is:', ESS)\n",
    "    print('TSS is:', TSS)\n",
    "    print('R2 is:', R2)\n",
    "    print('MSE is:', MSE)\n",
    "    print('RMSE is:', RMSE)\n",
    "    \n",
    "def baseline_mean_errors(y):\n",
    "    yhat = y.mean()\n",
    "    return {\n",
    "        'sse': sse(yhat, y),\n",
    "        'mse': mse(yhat, y),\n",
    "        'rmse': rmse(yhat, y),\n",
    "    }\n",
    "\n",
    "def better_than_baseline(yhat, y):\n",
    "    sse_baseline = sse(y, y.mean())\n",
    "    sse_model = sse(yhat, y)\n",
    "    return sse_model < sse_baseline"
   ]
  },
  {
   "cell_type": "markdown",
   "id": "f3c995cc",
   "metadata": {},
   "source": [
    "10. Load the mpg dataset and fit a model that predicts highway mileage based on engine displacement. Take a look at all the regression evaluation metrics, and determine whether this model is better than the baseline model. Use the functions from your evaluate.py to help accomplish this."
   ]
  },
  {
   "cell_type": "code",
   "execution_count": null,
   "id": "f10cb705",
   "metadata": {},
   "outputs": [],
   "source": []
  }
 ],
 "metadata": {
  "kernelspec": {
   "display_name": "Python 3 (ipykernel)",
   "language": "python",
   "name": "python3"
  },
  "language_info": {
   "codemirror_mode": {
    "name": "ipython",
    "version": 3
   },
   "file_extension": ".py",
   "mimetype": "text/x-python",
   "name": "python",
   "nbconvert_exporter": "python",
   "pygments_lexer": "ipython3",
   "version": "3.9.7"
  }
 },
 "nbformat": 4,
 "nbformat_minor": 5
}
